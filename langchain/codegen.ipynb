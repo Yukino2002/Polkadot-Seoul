{
 "cells": [
  {
   "cell_type": "code",
   "execution_count": 1,
   "metadata": {},
   "outputs": [
    {
     "name": "stdout",
     "output_type": "stream",
     "text": [
      "Requirement already satisfied: langchain in c:\\users\\asimj\\appdata\\local\\programs\\python\\python310\\lib\\site-packages (0.0.228)\n",
      "Collecting deeplake\n",
      "  Using cached deeplake-3.6.12.tar.gz (527 kB)\n",
      "  Preparing metadata (setup.py): started\n",
      "  Preparing metadata (setup.py): finished with status 'done'\n",
      "Requirement already satisfied: openai in c:\\users\\asimj\\appdata\\local\\programs\\python\\python310\\lib\\site-packages (0.27.8)\n",
      "Collecting tiktoken\n",
      "  Downloading tiktoken-0.4.0-cp310-cp310-win_amd64.whl (635 kB)\n",
      "     -------------------------------------- 635.3/635.3 kB 2.9 MB/s eta 0:00:00\n",
      "Requirement already satisfied: dataclasses-json<0.6.0,>=0.5.7 in c:\\users\\asimj\\appdata\\local\\programs\\python\\python310\\lib\\site-packages (from langchain) (0.5.9)\n",
      "Requirement already satisfied: PyYAML>=5.4.1 in c:\\users\\asimj\\appdata\\local\\programs\\python\\python310\\lib\\site-packages (from langchain) (6.0)\n",
      "Requirement already satisfied: pydantic<2,>=1 in c:\\users\\asimj\\appdata\\local\\programs\\python\\python310\\lib\\site-packages (from langchain) (1.10.11)\n",
      "Requirement already satisfied: aiohttp<4.0.0,>=3.8.3 in c:\\users\\asimj\\appdata\\local\\programs\\python\\python310\\lib\\site-packages (from langchain) (3.8.3)\n",
      "Requirement already satisfied: requests<3,>=2 in c:\\users\\asimj\\appdata\\local\\programs\\python\\python310\\lib\\site-packages (from langchain) (2.27.1)\n",
      "Requirement already satisfied: async-timeout<5.0.0,>=4.0.0 in c:\\users\\asimj\\appdata\\local\\programs\\python\\python310\\lib\\site-packages (from langchain) (4.0.2)\n",
      "Requirement already satisfied: numexpr<3.0.0,>=2.8.4 in c:\\users\\asimj\\appdata\\local\\programs\\python\\python310\\lib\\site-packages (from langchain) (2.8.4)\n",
      "Requirement already satisfied: SQLAlchemy<3,>=1.4 in c:\\users\\asimj\\appdata\\local\\programs\\python\\python310\\lib\\site-packages (from langchain) (2.0.18)\n",
      "Requirement already satisfied: openapi-schema-pydantic<2.0,>=1.2 in c:\\users\\asimj\\appdata\\local\\programs\\python\\python310\\lib\\site-packages (from langchain) (1.2.4)\n",
      "Requirement already satisfied: tenacity<9.0.0,>=8.1.0 in c:\\users\\asimj\\appdata\\local\\programs\\python\\python310\\lib\\site-packages (from langchain) (8.2.2)\n",
      "Requirement already satisfied: numpy<2,>=1 in c:\\users\\asimj\\appdata\\local\\programs\\python\\python310\\lib\\site-packages (from langchain) (1.23.5)\n",
      "Requirement already satisfied: langchainplus-sdk<0.0.21,>=0.0.20 in c:\\users\\asimj\\appdata\\local\\programs\\python\\python310\\lib\\site-packages (from langchain) (0.0.20)\n",
      "Requirement already satisfied: pillow in c:\\users\\asimj\\appdata\\local\\programs\\python\\python310\\lib\\site-packages (from deeplake) (9.3.0)\n",
      "Collecting boto3\n",
      "  Downloading boto3-1.28.9-py3-none-any.whl (135 kB)\n",
      "     -------------------------------------- 135.7/135.7 kB 4.0 MB/s eta 0:00:00\n",
      "Requirement already satisfied: click in c:\\users\\asimj\\appdata\\local\\programs\\python\\python310\\lib\\site-packages (from deeplake) (7.1.2)\n",
      "Collecting pathos\n",
      "  Downloading pathos-0.3.1-py3-none-any.whl (82 kB)\n",
      "     ---------------------------------------- 82.1/82.1 kB 4.8 MB/s eta 0:00:00\n",
      "Collecting humbug>=0.3.1\n",
      "  Using cached humbug-0.3.2-py3-none-any.whl (15 kB)\n",
      "Requirement already satisfied: tqdm in c:\\users\\asimj\\appdata\\local\\programs\\python\\python310\\lib\\site-packages (from deeplake) (4.62.3)\n",
      "Collecting numcodecs\n",
      "  Downloading numcodecs-0.11.0-cp310-cp310-win_amd64.whl (604 kB)\n",
      "     -------------------------------------- 604.5/604.5 kB 2.9 MB/s eta 0:00:00\n",
      "Requirement already satisfied: pyjwt in c:\\users\\asimj\\appdata\\local\\programs\\python\\python310\\lib\\site-packages (from deeplake) (2.8.0)\n",
      "Requirement already satisfied: regex>=2022.1.18 in c:\\users\\asimj\\appdata\\local\\programs\\python\\python310\\lib\\site-packages (from tiktoken) (2022.10.31)\n",
      "Requirement already satisfied: attrs>=17.3.0 in c:\\users\\asimj\\appdata\\roaming\\python\\python310\\site-packages (from aiohttp<4.0.0,>=3.8.3->langchain) (21.4.0)\n",
      "Requirement already satisfied: yarl<2.0,>=1.0 in c:\\users\\asimj\\appdata\\local\\programs\\python\\python310\\lib\\site-packages (from aiohttp<4.0.0,>=3.8.3->langchain) (1.8.1)\n",
      "Requirement already satisfied: multidict<7.0,>=4.5 in c:\\users\\asimj\\appdata\\local\\programs\\python\\python310\\lib\\site-packages (from aiohttp<4.0.0,>=3.8.3->langchain) (6.0.2)\n",
      "Requirement already satisfied: charset-normalizer<3.0,>=2.0 in c:\\users\\asimj\\appdata\\local\\programs\\python\\python310\\lib\\site-packages (from aiohttp<4.0.0,>=3.8.3->langchain) (2.0.12)\n",
      "Requirement already satisfied: frozenlist>=1.1.1 in c:\\users\\asimj\\appdata\\local\\programs\\python\\python310\\lib\\site-packages (from aiohttp<4.0.0,>=3.8.3->langchain) (1.3.3)\n",
      "Requirement already satisfied: aiosignal>=1.1.2 in c:\\users\\asimj\\appdata\\local\\programs\\python\\python310\\lib\\site-packages (from aiohttp<4.0.0,>=3.8.3->langchain) (1.3.1)\n",
      "Requirement already satisfied: typing-inspect>=0.4.0 in c:\\users\\asimj\\appdata\\local\\programs\\python\\python310\\lib\\site-packages (from dataclasses-json<0.6.0,>=0.5.7->langchain) (0.9.0)\n",
      "Requirement already satisfied: marshmallow-enum<2.0.0,>=1.5.1 in c:\\users\\asimj\\appdata\\local\\programs\\python\\python310\\lib\\site-packages (from dataclasses-json<0.6.0,>=0.5.7->langchain) (1.5.1)\n",
      "Requirement already satisfied: marshmallow<4.0.0,>=3.3.0 in c:\\users\\asimj\\appdata\\local\\programs\\python\\python310\\lib\\site-packages (from dataclasses-json<0.6.0,>=0.5.7->langchain) (3.19.0)\n",
      "Requirement already satisfied: typing-extensions>=4.2.0 in c:\\users\\asimj\\appdata\\local\\programs\\python\\python310\\lib\\site-packages (from pydantic<2,>=1->langchain) (4.7.1)\n",
      "Requirement already satisfied: idna<4,>=2.5 in c:\\users\\asimj\\appdata\\local\\programs\\python\\python310\\lib\\site-packages (from requests<3,>=2->langchain) (2.8)\n",
      "Requirement already satisfied: urllib3<1.27,>=1.21.1 in c:\\users\\asimj\\appdata\\local\\programs\\python\\python310\\lib\\site-packages (from requests<3,>=2->langchain) (1.26.8)\n",
      "Requirement already satisfied: certifi>=2017.4.17 in c:\\users\\asimj\\appdata\\local\\programs\\python\\python310\\lib\\site-packages (from requests<3,>=2->langchain) (2021.10.8)\n",
      "Requirement already satisfied: greenlet!=0.4.17 in c:\\users\\asimj\\appdata\\local\\programs\\python\\python310\\lib\\site-packages (from SQLAlchemy<3,>=1.4->langchain) (2.0.2)\n",
      "Collecting s3transfer<0.7.0,>=0.6.0\n",
      "  Using cached s3transfer-0.6.1-py3-none-any.whl (79 kB)\n",
      "Collecting jmespath<2.0.0,>=0.7.1\n",
      "  Using cached jmespath-1.0.1-py3-none-any.whl (20 kB)\n",
      "Collecting botocore<1.32.0,>=1.31.9\n",
      "  Downloading botocore-1.31.9-py3-none-any.whl (11.0 MB)\n",
      "     ---------------------------------------- 11.0/11.0 MB 3.2 MB/s eta 0:00:00\n",
      "Requirement already satisfied: entrypoints in c:\\users\\asimj\\appdata\\roaming\\python\\python310\\site-packages (from numcodecs->deeplake) (0.3)\n",
      "Collecting pox>=0.3.3\n",
      "  Downloading pox-0.3.3-py3-none-any.whl (29 kB)\n",
      "Collecting dill>=0.3.7\n",
      "  Downloading dill-0.3.7-py3-none-any.whl (115 kB)\n",
      "     -------------------------------------- 115.3/115.3 kB 7.0 MB/s eta 0:00:00\n",
      "Collecting multiprocess>=0.70.15\n",
      "  Downloading multiprocess-0.70.15-py310-none-any.whl (134 kB)\n",
      "     -------------------------------------- 134.8/134.8 kB 4.0 MB/s eta 0:00:00\n",
      "Collecting ppft>=1.7.6.7\n",
      "  Downloading ppft-1.7.6.7-py3-none-any.whl (56 kB)\n",
      "     ---------------------------------------- 56.8/56.8 kB ? eta 0:00:00\n",
      "Requirement already satisfied: colorama in c:\\users\\asimj\\appdata\\local\\programs\\python\\python310\\lib\\site-packages (from tqdm->deeplake) (0.4.4)\n",
      "Requirement already satisfied: python-dateutil<3.0.0,>=2.1 in c:\\users\\asimj\\appdata\\local\\programs\\python\\python310\\lib\\site-packages (from botocore<1.32.0,>=1.31.9->boto3->deeplake) (2.8.1)\n",
      "Requirement already satisfied: packaging>=17.0 in c:\\users\\asimj\\appdata\\local\\programs\\python\\python310\\lib\\site-packages (from marshmallow<4.0.0,>=3.3.0->dataclasses-json<0.6.0,>=0.5.7->langchain) (21.3)\n",
      "Requirement already satisfied: mypy-extensions>=0.3.0 in c:\\users\\asimj\\appdata\\roaming\\python\\python310\\site-packages (from typing-inspect>=0.4.0->dataclasses-json<0.6.0,>=0.5.7->langchain) (0.4.3)\n",
      "Requirement already satisfied: pyparsing!=3.0.5,>=2.0.2 in c:\\users\\asimj\\appdata\\local\\programs\\python\\python310\\lib\\site-packages (from packaging>=17.0->marshmallow<4.0.0,>=3.3.0->dataclasses-json<0.6.0,>=0.5.7->langchain) (3.0.7)\n",
      "Requirement already satisfied: six>=1.5 in c:\\users\\asimj\\appdata\\local\\programs\\python\\python310\\lib\\site-packages (from python-dateutil<3.0.0,>=2.1->botocore<1.32.0,>=1.31.9->boto3->deeplake) (1.15.0)\n",
      "Building wheels for collected packages: deeplake\n",
      "  Building wheel for deeplake (setup.py): started\n",
      "  Building wheel for deeplake (setup.py): finished with status 'done'\n",
      "  Created wheel for deeplake: filename=deeplake-3.6.12-py3-none-any.whl size=642150 sha256=ad55a241f8daa672499359ffa02b3401fdc7318311d5e5479b9cd00c6b34f0b6\n",
      "  Stored in directory: c:\\users\\asimj\\appdata\\local\\pip\\cache\\wheels\\2c\\76\\76\\6723edf20d2a221ea26d1a564ca87b56977e4dd6bb261d7d28\n",
      "Successfully built deeplake\n",
      "Installing collected packages: ppft, pox, numcodecs, jmespath, dill, tiktoken, multiprocess, humbug, botocore, s3transfer, pathos, boto3, deeplake\n",
      "  Attempting uninstall: dill\n",
      "    Found existing installation: dill 0.3.6\n",
      "    Uninstalling dill-0.3.6:\n",
      "      Successfully uninstalled dill-0.3.6\n",
      "  Attempting uninstall: multiprocess\n",
      "    Found existing installation: multiprocess 0.70.14\n",
      "    Uninstalling multiprocess-0.70.14:\n",
      "      Successfully uninstalled multiprocess-0.70.14\n",
      "Successfully installed boto3-1.28.9 botocore-1.31.9 deeplake-3.6.12 dill-0.3.7 humbug-0.3.2 jmespath-1.0.1 multiprocess-0.70.15 numcodecs-0.11.0 pathos-0.3.1 pox-0.3.3 ppft-1.7.6.7 s3transfer-0.6.1 tiktoken-0.4.0\n",
      "Note: you may need to restart the kernel to use updated packages.\n"
     ]
    },
    {
     "name": "stderr",
     "output_type": "stream",
     "text": [
      "ERROR: pip's dependency resolver does not currently take into account all the packages that are installed. This behaviour is the source of the following dependency conflicts.\n",
      "datasets 2.7.1 requires dill<0.3.7, but you have dill 0.3.7 which is incompatible.\n",
      "\n",
      "[notice] A new release of pip available: 22.3.1 -> 23.2\n",
      "[notice] To update, run: pythonw.exe -m pip install --upgrade pip\n"
     ]
    }
   ],
   "source": [
    "%pip install langchain deeplake openai tiktoken"
   ]
  },
  {
   "cell_type": "code",
   "execution_count": 1,
   "metadata": {},
   "outputs": [
    {
     "name": "stdout",
     "output_type": "stream",
     "text": [
      "Collecting langchain==0.0.229\n",
      "  Using cached langchain-0.0.229-py3-none-any.whl (1.3 MB)\n",
      "Requirement already satisfied: PyYAML>=5.4.1 in c:\\users\\asimj\\.conda\\envs\\langchain\\lib\\site-packages (from langchain==0.0.229) (6.0)\n",
      "Requirement already satisfied: SQLAlchemy<3,>=1.4 in c:\\users\\asimj\\.conda\\envs\\langchain\\lib\\site-packages (from langchain==0.0.229) (2.0.18)\n",
      "Requirement already satisfied: aiohttp<4.0.0,>=3.8.3 in c:\\users\\asimj\\.conda\\envs\\langchain\\lib\\site-packages (from langchain==0.0.229) (3.8.4)\n",
      "Requirement already satisfied: async-timeout<5.0.0,>=4.0.0 in c:\\users\\asimj\\.conda\\envs\\langchain\\lib\\site-packages (from langchain==0.0.229) (4.0.2)\n",
      "Requirement already satisfied: dataclasses-json<0.6.0,>=0.5.7 in c:\\users\\asimj\\.conda\\envs\\langchain\\lib\\site-packages (from langchain==0.0.229) (0.5.9)\n",
      "Requirement already satisfied: langchainplus-sdk<0.0.21,>=0.0.20 in c:\\users\\asimj\\.conda\\envs\\langchain\\lib\\site-packages (from langchain==0.0.229) (0.0.20)\n",
      "Requirement already satisfied: numexpr<3.0.0,>=2.8.4 in c:\\users\\asimj\\.conda\\envs\\langchain\\lib\\site-packages (from langchain==0.0.229) (2.8.4)\n",
      "Requirement already satisfied: numpy<2,>=1 in c:\\users\\asimj\\.conda\\envs\\langchain\\lib\\site-packages (from langchain==0.0.229) (1.24.4)\n",
      "Requirement already satisfied: openapi-schema-pydantic<2.0,>=1.2 in c:\\users\\asimj\\.conda\\envs\\langchain\\lib\\site-packages (from langchain==0.0.229) (1.2.4)\n",
      "Requirement already satisfied: pydantic<2,>=1 in c:\\users\\asimj\\.conda\\envs\\langchain\\lib\\site-packages (from langchain==0.0.229) (1.10.11)\n",
      "Requirement already satisfied: requests<3,>=2 in c:\\users\\asimj\\.conda\\envs\\langchain\\lib\\site-packages (from langchain==0.0.229) (2.31.0)\n",
      "Requirement already satisfied: tenacity<9.0.0,>=8.1.0 in c:\\users\\asimj\\.conda\\envs\\langchain\\lib\\site-packages (from langchain==0.0.229) (8.2.2)\n",
      "Requirement already satisfied: attrs>=17.3.0 in c:\\users\\asimj\\.conda\\envs\\langchain\\lib\\site-packages (from aiohttp<4.0.0,>=3.8.3->langchain==0.0.229) (23.1.0)\n",
      "Requirement already satisfied: charset-normalizer<4.0,>=2.0 in c:\\users\\asimj\\.conda\\envs\\langchain\\lib\\site-packages (from aiohttp<4.0.0,>=3.8.3->langchain==0.0.229) (3.2.0)\n",
      "Requirement already satisfied: multidict<7.0,>=4.5 in c:\\users\\asimj\\.conda\\envs\\langchain\\lib\\site-packages (from aiohttp<4.0.0,>=3.8.3->langchain==0.0.229) (6.0.4)\n",
      "Requirement already satisfied: yarl<2.0,>=1.0 in c:\\users\\asimj\\.conda\\envs\\langchain\\lib\\site-packages (from aiohttp<4.0.0,>=3.8.3->langchain==0.0.229) (1.9.2)\n",
      "Requirement already satisfied: frozenlist>=1.1.1 in c:\\users\\asimj\\.conda\\envs\\langchain\\lib\\site-packages (from aiohttp<4.0.0,>=3.8.3->langchain==0.0.229) (1.3.3)\n",
      "Requirement already satisfied: aiosignal>=1.1.2 in c:\\users\\asimj\\.conda\\envs\\langchain\\lib\\site-packages (from aiohttp<4.0.0,>=3.8.3->langchain==0.0.229) (1.3.1)\n",
      "Requirement already satisfied: marshmallow<4.0.0,>=3.3.0 in c:\\users\\asimj\\.conda\\envs\\langchain\\lib\\site-packages (from dataclasses-json<0.6.0,>=0.5.7->langchain==0.0.229) (3.19.0)\n",
      "Requirement already satisfied: marshmallow-enum<2.0.0,>=1.5.1 in c:\\users\\asimj\\.conda\\envs\\langchain\\lib\\site-packages (from dataclasses-json<0.6.0,>=0.5.7->langchain==0.0.229) (1.5.1)\n",
      "Requirement already satisfied: typing-inspect>=0.4.0 in c:\\users\\asimj\\.conda\\envs\\langchain\\lib\\site-packages (from dataclasses-json<0.6.0,>=0.5.7->langchain==0.0.229) (0.9.0)\n",
      "Requirement already satisfied: typing-extensions>=4.2.0 in c:\\users\\asimj\\.conda\\envs\\langchain\\lib\\site-packages (from pydantic<2,>=1->langchain==0.0.229) (4.7.1)\n",
      "Requirement already satisfied: idna<4,>=2.5 in c:\\users\\asimj\\.conda\\envs\\langchain\\lib\\site-packages (from requests<3,>=2->langchain==0.0.229) (3.4)\n",
      "Requirement already satisfied: urllib3<3,>=1.21.1 in c:\\users\\asimj\\.conda\\envs\\langchain\\lib\\site-packages (from requests<3,>=2->langchain==0.0.229) (1.26.16)\n",
      "Requirement already satisfied: certifi>=2017.4.17 in c:\\users\\asimj\\.conda\\envs\\langchain\\lib\\site-packages (from requests<3,>=2->langchain==0.0.229) (2023.5.7)\n",
      "Requirement already satisfied: greenlet!=0.4.17 in c:\\users\\asimj\\.conda\\envs\\langchain\\lib\\site-packages (from SQLAlchemy<3,>=1.4->langchain==0.0.229) (2.0.2)\n",
      "Requirement already satisfied: packaging>=17.0 in c:\\users\\asimj\\.conda\\envs\\langchain\\lib\\site-packages (from marshmallow<4.0.0,>=3.3.0->dataclasses-json<0.6.0,>=0.5.7->langchain==0.0.229) (23.1)\n",
      "Requirement already satisfied: mypy-extensions>=0.3.0 in c:\\users\\asimj\\.conda\\envs\\langchain\\lib\\site-packages (from typing-inspect>=0.4.0->dataclasses-json<0.6.0,>=0.5.7->langchain==0.0.229) (1.0.0)\n",
      "Installing collected packages: langchain\n",
      "  Attempting uninstall: langchain\n",
      "    Found existing installation: langchain 0.0.240\n",
      "    Uninstalling langchain-0.0.240:\n",
      "      Successfully uninstalled langchain-0.0.240\n",
      "Successfully installed langchain-0.0.229\n"
     ]
    }
   ],
   "source": [
    "!pip install langchain==0.0.229"
   ]
  },
  {
   "cell_type": "code",
   "execution_count": 7,
   "metadata": {},
   "outputs": [],
   "source": [
    "import os\n",
    "from getpass import getpass\n",
    "from langchain.document_loaders import TextLoader\n",
    "from langchain.text_splitter import CharacterTextSplitter\n",
    "from langchain.embeddings.openai import OpenAIEmbeddings\n",
    "from langchain.vectorstores import DeepLake\n",
    "from langchain.chat_models import ChatOpenAI\n",
    "from langchain.chains import ConversationalRetrievalChain"
   ]
  },
  {
   "cell_type": "code",
   "execution_count": 8,
   "metadata": {},
   "outputs": [
    {
     "name": "stdout",
     "output_type": "stream",
     "text": [
      "754\n"
     ]
    }
   ],
   "source": [
    "\n",
    "root_dir = \"../datasets/docs/\"\n",
    "\n",
    "docs = []\n",
    "for dirpath, dirnames, filenames in os.walk(root_dir):\n",
    "    for file in filenames:\n",
    "        if file.endswith(\".txt\") and \"/.venv/\" not in dirpath:\n",
    "            try:\n",
    "                loader = TextLoader(os.path.join(dirpath, file), encoding=\"utf-8\")\n",
    "                docs.extend(loader.load_and_split())\n",
    "            except Exception as e:\n",
    "                pass\n",
    "print(f\"{len(docs)}\")"
   ]
  },
  {
   "cell_type": "code",
   "execution_count": 9,
   "metadata": {},
   "outputs": [
    {
     "name": "stdout",
     "output_type": "stream",
     "text": [
      "754\n"
     ]
    }
   ],
   "source": [
    "text_splitter = CharacterTextSplitter(chunk_size=1000, chunk_overlap=0)\n",
    "texts = text_splitter.split_documents(docs)\n",
    "print(f\"{len(texts)}\")"
   ]
  },
  {
   "cell_type": "code",
   "execution_count": null,
   "metadata": {},
   "outputs": [],
   "source": []
  },
  {
   "cell_type": "code",
   "execution_count": 10,
   "metadata": {},
   "outputs": [],
   "source": [
    "embeddings = OpenAIEmbeddings()\n"
   ]
  },
  {
   "cell_type": "code",
   "execution_count": 11,
   "metadata": {},
   "outputs": [
    {
     "name": "stdout",
     "output_type": "stream",
     "text": [
      "Your Deep Lake dataset has been successfully created!\n"
     ]
    },
    {
     "name": "stderr",
     "output_type": "stream",
     "text": [
      "/"
     ]
    },
    {
     "name": "stdout",
     "output_type": "stream",
     "text": [
      "Dataset(path='hub://commanderastern/polka-docs', tensors=['embedding', 'id', 'metadata', 'text'])\n",
      "\n",
      "  tensor      htype       shape      dtype  compression\n",
      "  -------    -------     -------    -------  ------- \n",
      " embedding  embedding  (754, 1536)  float32   None   \n",
      "    id        text      (754, 1)      str     None   \n",
      " metadata     json      (754, 1)      str     None   \n",
      "   text       text      (754, 1)      str     None   \n"
     ]
    },
    {
     "name": "stderr",
     "output_type": "stream",
     "text": [
      " \r"
     ]
    },
    {
     "data": {
      "text/plain": [
       "<langchain.vectorstores.deeplake.DeepLake at 0x26f75cf9b40>"
      ]
     },
     "execution_count": 11,
     "metadata": {},
     "output_type": "execute_result"
    }
   ],
   "source": [
    "from langchain.vectorstores import DeepLake\n",
    "\n",
    "db = DeepLake.from_documents(\n",
    "    texts, embedding=embeddings, dataset_path=f\"hub://commanderastern/polka-docs\"\n",
    ")\n",
    "db"
   ]
  },
  {
   "cell_type": "code",
   "execution_count": 12,
   "metadata": {},
   "outputs": [
    {
     "name": "stdout",
     "output_type": "stream",
     "text": [
      "Deep Lake Dataset in hub://commanderastern/polka-docs already exists, loading from the storage\n"
     ]
    }
   ],
   "source": [
    "db = DeepLake(\n",
    "    dataset_path=f\"hub://commanderastern/polka-docs\",\n",
    "    read_only=True,\n",
    "    embedding_function=embeddings,\n",
    ")"
   ]
  },
  {
   "cell_type": "code",
   "execution_count": 7,
   "metadata": {},
   "outputs": [],
   "source": [
    "retriever = db.as_retriever()\n",
    "retriever.search_kwargs[\"distance_metric\"] = \"cos\"\n",
    "retriever.search_kwargs[\"fetch_k\"] = 20\n",
    "retriever.search_kwargs[\"maximal_marginal_relevance\"] = True\n",
    "retriever.search_kwargs[\"k\"] = 20"
   ]
  },
  {
   "cell_type": "code",
   "execution_count": 8,
   "metadata": {},
   "outputs": [],
   "source": [
    "def filter(x):\n",
    "    # filter based on source code\n",
    "    if \"something\" in x[\"text\"].data()[\"value\"]:\n",
    "        return False\n",
    "\n",
    "    # filter based on path e.g. extension\n",
    "    metadata = x[\"metadata\"].data()[\"value\"]\n",
    "    return \"only_this\" in metadata[\"source\"] or \"also_that\" in metadata[\"source\"]"
   ]
  },
  {
   "cell_type": "code",
   "execution_count": 9,
   "metadata": {},
   "outputs": [],
   "source": [
    "from langchain.chat_models import ChatOpenAI\n",
    "from langchain.chains import ConversationalRetrievalChain\n",
    "\n",
    "model = ChatOpenAI(model_name=\"gpt-3.5-turbo-16k\")  # 'ada' 'gpt-3.5-turbo' 'gpt-4',\n",
    "qa = ConversationalRetrievalChain.from_llm(model, retriever=retriever)"
   ]
  },
  {
   "cell_type": "code",
   "execution_count": 10,
   "metadata": {},
   "outputs": [
    {
     "name": "stdout",
     "output_type": "stream",
     "text": [
      "-> **Question**: A code that store value 1 and 2 and return the sum of the two values \n",
      "\n",
      "**Answer**: Here's an example code that stores the values 1 and 2 and returns their sum:\n",
      "\n",
      "```rust\n",
      "use ink_lang as ink;\n",
      "\n",
      "#[ink::contract]\n",
      "mod value_store {\n",
      "    #[ink(storage)]\n",
      "    pub struct ValueStore {\n",
      "        value1: i32,\n",
      "        value2: i32,\n",
      "    }\n",
      "\n",
      "    impl ValueStore {\n",
      "        #[ink(constructor)]\n",
      "        pub fn new(value1: i32, value2: i32) -> Self {\n",
      "            Self { value1, value2 }\n",
      "        }\n",
      "\n",
      "        #[ink(message)]\n",
      "        pub fn get_sum(&self) -> i32 {\n",
      "            self.value1 + self.value2\n",
      "        }\n",
      "    }\n",
      "}\n",
      "```\n",
      "\n",
      "In this code, the `ValueStore` contract has two storage variables `value1` and `value2` of type `i32`. The constructor `new` is used to initialize these values. The `get_sum` message returns the sum of `value1` and `value2`. \n",
      "\n"
     ]
    }
   ],
   "source": [
    "questions = [\n",
    "    \"A code that store value 1 and 2 and return the sum of the two values\",\n",
    "]\n",
    "chat_history = []\n",
    "\n",
    "for question in questions:\n",
    "    result = qa({\"question\": question, \"chat_history\": chat_history})\n",
    "    chat_history.append((question, result[\"answer\"]))\n",
    "    print(f\"-> **Question**: {question} \\n\")\n",
    "    print(f\"**Answer**: {result['answer']} \\n\")"
   ]
  },
  {
   "cell_type": "code",
   "execution_count": null,
   "metadata": {},
   "outputs": [],
   "source": []
  }
 ],
 "metadata": {
  "kernelspec": {
   "display_name": "langchain",
   "language": "python",
   "name": "python3"
  },
  "language_info": {
   "codemirror_mode": {
    "name": "ipython",
    "version": 3
   },
   "file_extension": ".py",
   "mimetype": "text/x-python",
   "name": "python",
   "nbconvert_exporter": "python",
   "pygments_lexer": "ipython3",
   "version": "3.8.17"
  },
  "orig_nbformat": 4
 },
 "nbformat": 4,
 "nbformat_minor": 2
}
