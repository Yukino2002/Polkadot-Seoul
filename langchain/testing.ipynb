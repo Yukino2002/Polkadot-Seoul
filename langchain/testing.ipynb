{
 "cells": [
  {
   "cell_type": "code",
   "execution_count": 1,
   "metadata": {},
   "outputs": [
    {
     "name": "stderr",
     "output_type": "stream",
     "text": [
      "c:\\Users\\asimj\\.conda\\envs\\langchain\\lib\\site-packages\\deeplake\\util\\check_latest_version.py:32: UserWarning: A newer version of deeplake (3.6.12) is available. It's recommended that you update to the latest version using `pip install -U deeplake`.\n",
      "  warnings.warn(\n"
     ]
    }
   ],
   "source": [
    "from langchain.agents import initialize_agent, Tool\n",
    "from langchain.llms import OpenAI\n",
    "from langchain import LLMMathChain, SerpAPIWrapper\n",
    "from langchain.tools import BaseTool\n",
    "from pydantic import BaseModel, Field\n",
    "from typing import Type\n",
    "from langchain.chat_models import ChatOpenAI\n",
    "from langchain.agents import AgentType\n",
    "import os\n",
    "from getpass import getpass\n",
    "from langchain.document_loaders import TextLoader\n",
    "from langchain.text_splitter import CharacterTextSplitter\n",
    "from langchain.embeddings.openai import OpenAIEmbeddings\n",
    "from langchain.vectorstores import DeepLake\n",
    "from langchain.chat_models import ChatOpenAI\n",
    "from langchain.chains import ConversationalRetrievalChain\n",
    "import re\n",
    "import ast\n",
    "from langchain.schema import (\n",
    "    AIMessage,\n",
    "    HumanMessage,\n",
    "    SystemMessage\n",
    ")"
   ]
  },
  {
   "cell_type": "code",
   "execution_count": 122,
   "metadata": {},
   "outputs": [
    {
     "data": {
      "text/plain": [
       "'boom'"
      ]
     },
     "execution_count": 122,
     "metadata": {},
     "output_type": "execute_result"
    }
   ],
   "source": [
    "temp = ast.literal_eval(r\"\"\"{\"boom\": \"boom\"}\"\"\")\n",
    "temp[\"boom\"]"
   ]
  },
  {
   "cell_type": "code",
   "execution_count": 15,
   "metadata": {},
   "outputs": [],
   "source": [
    "from substrateinterface import SubstrateInterface, Keypair\n",
    "from substrateinterface.contracts import ContractCode, ContractInstance\n",
    "from substrateinterface.exceptions import SubstrateRequestException\n",
    "\n",
    "substrate_relay = SubstrateInterface(url=\"wss://shibuya-rpc.dwellir.com\")\n",
    "substrate_contract = SubstrateInterface(\n",
    "    url='wss://rococo-contracts-rpc.polkadot.io')"
   ]
  },
  {
   "cell_type": "code",
   "execution_count": 16,
   "metadata": {},
   "outputs": [],
   "source": [
    "def format_balance(amount: int):\n",
    "    amount = format(\n",
    "        amount / 10**substrate_relay.properties.get('tokenDecimals', 0),\n",
    "        \".15g\")\n",
    "    return f\"{amount} {substrate_relay.properties.get('tokenSymbol', 'UNIT')}\""
   ]
  },
  {
   "cell_type": "code",
   "execution_count": 17,
   "metadata": {},
   "outputs": [],
   "source": [
    "def get_account_balance(account_address):\n",
    "    result = substrate_relay.query(\"System\", \"Account\", [account_address])\n",
    "    balance = (result.value[\"data\"][\"free\"] + result.value[\"data\"][\"reserved\"])\n",
    "\n",
    "    return format_balance(balance)"
   ]
  },
  {
   "cell_type": "code",
   "execution_count": 18,
   "metadata": {},
   "outputs": [],
   "source": [
    "def get_polkadot_account_balance(account_address):\n",
    "    \"\"\"Method to get the balance of a Polkadot account.\"\"\"\n",
    "    result = substrate_relay.query(\"System\", \"Account\", [account_address])\n",
    "    balance = (result.value[\"data\"][\"free\"] + result.value[\"data\"][\"reserved\"])\n",
    "\n",
    "    return format_balance(balance)"
   ]
  },
  {
   "cell_type": "code",
   "execution_count": 9,
   "metadata": {},
   "outputs": [
    {
     "name": "stdout",
     "output_type": "stream",
     "text": [
      "9.74665958012062 SBY\n"
     ]
    }
   ],
   "source": [
    "print(get_account_balance(\"5DvyRvNq5jpvjat2qkGhiKjJQdz5cwreJW5yxvLBLRpHnoGo\"))"
   ]
  },
  {
   "cell_type": "code",
   "execution_count": 4,
   "metadata": {},
   "outputs": [],
   "source": [
    "class GetAccountBalanceInput(BaseModel):\n",
    "    \"\"\"Inputs for get_account_balance\"\"\"\n",
    "\n",
    "    account_address: str = Field(description=\"the address of the account to get the balance of\")\n",
    "\n",
    "class  GetAccountBalanceTool(BaseTool):\n",
    "    name = \"get_account_balance\"\n",
    "    description = \"\"\"\n",
    "        Useful when you want to get the balance of an polkadot account.\n",
    "        The account address is the address of the account you want to get the balance of.\n",
    "        The address format is ss58 encoded.\n",
    "        \"\"\"\n",
    "    args_schema: Type[BaseModel] = GetAccountBalanceInput\n",
    "\n",
    "    def _run(self, account_address: str):\n",
    "        account_balance = get_account_balance(account_address)\n",
    "        return account_balance\n",
    "\n",
    "    def _arun(self, account_address: str):\n",
    "        raise NotImplementedError(\"get_current_stock_price does not support async\")\n",
    "        \n",
    "class GenerateInkPolkadotContractInput(BaseModel):\n",
    "    \"\"\"Inputs for generate_ink_polkadot_contract\"\"\"\n",
    "\n",
    "    contract_description: str = Field(description=\"A description in simple english of what you would like the contract to do\")\n",
    "\n",
    "class GenerateInkPolkadotContractTool(BaseTool):\n",
    "    name = \"generate_ink_polkadot_contract\"\n",
    "    description = \"\"\"\n",
    "        Useful when you want to generate a polkadot contract in ink or just an ink contract.\n",
    "        The contract description is a description of what you would like the contract to do.\n",
    "        \n",
    "        This also deploys the code to Shibuya Testnet.\n",
    "\n",
    "        returns the contract address\n",
    "        \"\"\"\n",
    "    args_schema: Type[BaseModel] = GenerateInkPolkadotContractInput\n",
    "\n",
    "    def _run(self, contract_description: str):\n",
    "        address = genCompileDeployContract(contract_description)\n",
    "        return address\n",
    "\n",
    "        \n",
    "    def _arun(self, account_address: str):\n",
    "        raise NotImplementedError(\"get_current_stock_price does not support async\")\n",
    "\n",
    "\n",
    "llm = ChatOpenAI(model=\"gpt-3.5-turbo-0613\", temperature=0)\n",
    "tools = [GetAccountBalanceTool(), GenerateInkPolkadotContractTool()]\n",
    "agent = initialize_agent(tools, llm, agent=AgentType.OPENAI_FUNCTIONS, verbose=True)\n"
   ]
  },
  {
   "cell_type": "code",
   "execution_count": 20,
   "metadata": {},
   "outputs": [
    {
     "name": "stdout",
     "output_type": "stream",
     "text": [
      "Deep Lake Dataset in hub://commanderastern/polka-code-3 already exists, loading from the storage\n"
     ]
    }
   ],
   "source": [
    "embeddings = OpenAIEmbeddings()\n",
    "db = DeepLake(\n",
    "    dataset_path=f\"hub://commanderastern/polka-code-3\",\n",
    "    read_only=True,\n",
    "    embedding_function=embeddings,\n",
    ")"
   ]
  },
  {
   "cell_type": "code",
   "execution_count": 21,
   "metadata": {},
   "outputs": [],
   "source": [
    "retriever = db.as_retriever()\n",
    "retriever.search_kwargs[\"distance_metric\"] = \"cos\"\n",
    "retriever.search_kwargs[\"fetch_k\"] = 20\n",
    "retriever.search_kwargs[\"maximal_marginal_relevance\"] = True\n",
    "retriever.search_kwargs[\"k\"] = 20"
   ]
  },
  {
   "cell_type": "code",
   "execution_count": 22,
   "metadata": {},
   "outputs": [],
   "source": [
    "def filter(x):\n",
    "    # filter based on source code\n",
    "    if \"something\" in x[\"text\"].data()[\"value\"]:\n",
    "        return False\n",
    "\n",
    "    # filter based on path e.g. extension\n",
    "    metadata = x[\"metadata\"].data()[\"value\"]\n",
    "    return \"only_this\" in metadata[\"source\"] or \"also_that\" in metadata[\"source\"]"
   ]
  },
  {
   "cell_type": "code",
   "execution_count": 23,
   "metadata": {},
   "outputs": [],
   "source": [
    "from langchain.chat_models import ChatOpenAI\n",
    "from langchain.chains import ConversationalRetrievalChain\n",
    "\n",
    "model = ChatOpenAI(model_name=\"gpt-3.5-turbo-16k\")  # 'ada' 'gpt-3.5-turbo' 'gpt-4',\n",
    "qa = ConversationalRetrievalChain.from_llm(model, retriever=retriever)"
   ]
  },
  {
   "cell_type": "code",
   "execution_count": 96,
   "metadata": {},
   "outputs": [],
   "source": [
    "with open('code/lib.rs', 'w') as file:\n",
    "    file.write(res)"
   ]
  },
  {
   "cell_type": "code",
   "execution_count": 11,
   "metadata": {},
   "outputs": [],
   "source": [
    "import subprocess\n",
    "\n",
    "def run_command(command):\n",
    "    process = subprocess.Popen(command, stdout=subprocess.PIPE, stderr=subprocess.PIPE, shell=True)\n",
    "    output, error = process.communicate()\n",
    "\n",
    "    if process.returncode != 0:\n",
    "        print(f\"Error occurred: {error.decode().strip()}\")\n",
    "    else:\n",
    "        print(f\"Output: {output.decode().strip()}\")\n"
   ]
  },
  {
   "cell_type": "code",
   "execution_count": 153,
   "metadata": {},
   "outputs": [
    {
     "name": "stdout",
     "output_type": "stream",
     "text": [
      "Error occurred: \u001b[0m\u001b[0m\u001b[1m\u001b[32m   Compiling\u001b[0m my_contract v0.1.0 (C:\\Users\\asimj\\AppData\\Local\\Temp\\cargo-contract_7PqrsZ)\n",
      "\u001b[0m\u001b[1m\u001b[38;5;9merror\u001b[0m\u001b[1m\u001b[38;5;15m: cannot find derive macro `SpreadAllocate` in this scope\u001b[0m                  \n",
      "\u001b[0m \u001b[0m\u001b[1m\u001b[38;5;14m--> \u001b[0m\\\\?\\C:\\Users\\asimj\\Documents\\Polkadot-Seoul\\langchain\\code\\lib.rs:7:14\u001b[0m\n",
      "\u001b[0m  \u001b[0m\u001b[1m\u001b[38;5;14m|\u001b[0m\n",
      "\u001b[0m\u001b[1m\u001b[38;5;14m7\u001b[0m \u001b[0m\u001b[1m\u001b[38;5;14m|\u001b[0m \u001b[0m    #[derive(SpreadAllocate)]\u001b[0m\n",
      "\u001b[0m  \u001b[0m\u001b[1m\u001b[38;5;14m| \u001b[0m             \u001b[0m\u001b[1m\u001b[38;5;9m^^^^^^^^^^^^^^\u001b[0m\n",
      "\n",
      "\u001b[0m\u001b[0m\u001b[1m\u001b[31merror\u001b[0m\u001b[1m:\u001b[0m could not compile `my_contract` due to preERROR: command [\"\\\\\\\\?\\\\C:\\\\Users\\\\asimj\\\\.rustup\\\\toolchains\\\\1.69-x86_64-pc-windows-msvc\\\\bin\\\\cargo.exe\", \"build\", \"--color=always\", \"--target=wasm32-unknown-unknown\", \"-Zbuild-std=core,alloc\", \"--no-default-features\", \"--release\", \"--target-dir=c:\\\\Users\\\\asimj\\\\Documents\\\\Polkadot-Seoul\\\\langchain\\\\code\\\\target\\\\ink\", \"--features\", \"ink/ink-debug\"] exited with code 101\n"
     ]
    }
   ],
   "source": [
    "run_command(\"cd code && cargo contract build\")"
   ]
  },
  {
   "cell_type": "code",
   "execution_count": 12,
   "metadata": {},
   "outputs": [],
   "source": [
    "menemonic = \"edge lawn cost piano narrow annual movie duty forum patient check output\""
   ]
  },
  {
   "cell_type": "code",
   "execution_count": 101,
   "metadata": {},
   "outputs": [
    {
     "name": "stdout",
     "output_type": "stream",
     "text": [
      "Deploy contract...\n",
      "✅ Deployed @ XXaWiLg4X1TGtSygr3RcU1YLGMsbLcsvgvLBqrc6jSZpgD5\n"
     ]
    }
   ],
   "source": [
    "# Upload WASM code\n",
    "code = ContractCode.create_from_contract_files(\n",
    "    metadata_file=os.path.join(os.getcwd(), 'code/target/ink',\n",
    "                               'my_contract.json'),\n",
    "    wasm_file=os.path.join(os.getcwd(), 'code/target/ink',\n",
    "                           'my_contract.wasm'),\n",
    "    substrate=substrate_relay)\n",
    "\n",
    "# Deploy contract\n",
    "print('Deploy contract...')\n",
    "contract = code.deploy(keypair=Keypair.create_from_mnemonic(\n",
    "    menemonic),\n",
    "                       constructor=\"new\",\n",
    "                       args={'init_value': True},\n",
    "                       value=0,\n",
    "                       gas_limit={'ref_time': 25990000000, 'proof_size': 1199000},\n",
    "                       upload_code=True)\n",
    "\n",
    "print(f'✅ Deployed @ {contract.contract_address}')"
   ]
  },
  {
   "cell_type": "code",
   "execution_count": null,
   "metadata": {},
   "outputs": [],
   "source": [
    "#setup for generating and deploy\n",
    "embeddings = OpenAIEmbeddings()\n",
    "db = DeepLake(\n",
    "    dataset_path=f\"hub://commanderastern/polka-code-2\",\n",
    "    read_only=True,\n",
    "    embedding_function=embeddings,\n",
    ")\n",
    "\n",
    "retriever = db.as_retriever()\n",
    "retriever.search_kwargs[\"distance_metric\"] = \"cos\"\n",
    "retriever.search_kwargs[\"fetch_k\"] = 20\n",
    "retriever.search_kwargs[\"maximal_marginal_relevance\"] = True\n",
    "retriever.search_kwargs[\"k\"] = 20\n",
    "\n",
    "def filter(x):\n",
    "    # filter based on source code\n",
    "    if \"something\" in x[\"text\"].data()[\"value\"]:\n",
    "        return False\n",
    "\n",
    "    # filter based on path e.g. extension\n",
    "    metadata = x[\"metadata\"].data()[\"value\"]\n",
    "    return \"only_this\" in metadata[\"source\"] or \"also_that\" in metadata[\"source\"]\n",
    "model_genContract = ChatOpenAI(model_name=\"gpt-3.5-turbo-16k\", temprature = 0)  # 'ada' 'gpt-3.5-turbo' 'gpt-4',\n",
    "\n",
    "qa = ConversationalRetrievalChain.from_llm(model_genContract, retriever=retriever)\n",
    "menemonic = \"edge lawn cost piano narrow annual movie duty forum patient check output\"\n",
    "\n",
    "def run_command(command):\n",
    "    process = subprocess.Popen(command, stdout=subprocess.PIPE, stderr=subprocess.PIPE, shell=True)\n",
    "    output, error = process.communicate()\n",
    "\n",
    "    if process.returncode != 0:\n",
    "        print(f\"Error occurred: {error.decode().strip()}\")\n",
    "    else:\n",
    "        print(f\"Output: {output.decode().strip()}\")"
   ]
  },
  {
   "cell_type": "code",
   "execution_count": 171,
   "metadata": {},
   "outputs": [
    {
     "name": "stderr",
     "output_type": "stream",
     "text": [
      "WARNING! temprature is not default parameter.\n",
      "                    temprature was transferred to model_kwargs.\n",
      "                    Please confirm that temprature is what you intended.\n"
     ]
    }
   ],
   "source": []
  },
  {
   "cell_type": "code",
   "execution_count": 13,
   "metadata": {},
   "outputs": [],
   "source": [
    "def genCompileDeployContract(description: str):\n",
    "    # Generate contract\n",
    "    questions = [\n",
    "    f\"\"\"\n",
    "    Give me a basic ink contract code, \n",
    "    Description of code = {description}\n",
    "    \"\"\"+\"\"\"\n",
    "    -- There should be no print statments in the contract return everything.\n",
    "    -- enclose the contract content in #startContract# and #endContract#\n",
    "    -- follow this basic format when generating the code\n",
    "\n",
    "    #startContract#\n",
    "    #[ink::contract]\n",
    "    mod contract_name \\{\n",
    "\n",
    "    }\n",
    "    #endContract#\n",
    "    \"\"\"\n",
    "    ]\n",
    "\n",
    "    chat_history = []\n",
    "\n",
    "    # extrating the contract code from the result\n",
    "    result = qa({\"question\": questions[0], \"chat_history\": chat_history})\n",
    "    chat_history.append((questions[0], result[\"answer\"]))\n",
    "\n",
    "    pattern = r'#startContract#(.*?)#endContract#'\n",
    "    pattern2 = r'```rust(.*?)```'\n",
    "    contract_code = re.search(pattern, result[\"answer\"], re.DOTALL)\n",
    "    res = \"\"\n",
    "    \n",
    "    if contract_code:\n",
    "        res = contract_code.group(1).strip()\n",
    "    else:\n",
    "        contract_code = re.search(pattern2, result[\"answer\"], re.DOTALL)\n",
    "        if contract_code:\n",
    "            res = contract_code.group(1).strip()\n",
    "    res = r\"\"\"#![cfg_attr(not(feature = \"std\"), no_std, no_main)]\"\"\" + '\\n'+ res\n",
    "    post_process_code = re.sub(r'^\\s*use.*\\n?', '', res, flags=re.MULTILINE)\n",
    "\n",
    "    post_process_code = re.sub(r'^\\s*struct', 'pub struct', post_process_code, flags=re.MULTILINE)\n",
    "\n",
    "    post_process_code = re.sub(r'^\\s*#\\s*\\[derive\\(.*\\n?', '', post_process_code, flags=re.MULTILINE)\n",
    "\n",
    "    print(post_process_code)\n",
    "\n",
    "    # generating the constructor args\n",
    "    new_function_pattern = r'(pub fn new.*?\\))'\n",
    "    new_function_match = re.search(new_function_pattern, post_process_code, re.DOTALL)\n",
    "\n",
    "    if new_function_match:\n",
    "        res = new_function_match.group(0)\n",
    "    print(res)\n",
    "    chat = ChatOpenAI()\n",
    "    messages = [\n",
    "        SystemMessage(content=r\"\"\"\n",
    "        give the argumentsvalues for \"pub fn new(value1: i32, value2: i32)\" in the form of a dictionary\n",
    "        -- Just the dictionary\n",
    "        -- No need fore explanation or additional code\n",
    "        -- empty dictionary is also fine\n",
    "        -- for invalid input empty dictionary will be returned\n",
    "        example: \n",
    "        Input: pub fn new(coolVal: i32)\n",
    "        Output: {\"coolVal\": 1}\"\"\"),\n",
    "        HumanMessage(content=f\"{res}\")\n",
    "    ]\n",
    "    constructor_args = ast.literal_eval(chat(messages).content)\n",
    "\n",
    "    with open('code/lib.rs', 'w') as file:\n",
    "        file.write(post_process_code)\n",
    "\n",
    "    # compiling contract\n",
    "    print(run_command(\"cd code && cargo contract build\"))\n",
    "\n",
    "    # Upload WASM code\n",
    "    code = ContractCode.create_from_contract_files(\n",
    "        metadata_file=os.path.join(os.getcwd(), 'code/target/ink',\n",
    "                                'my_contract.json'),\n",
    "        wasm_file=os.path.join(os.getcwd(), 'code/target/ink',\n",
    "                            'my_contract.wasm'),\n",
    "        substrate=substrate_relay)\n",
    "\n",
    "    # Deploy contract\n",
    "    print('Deploy contract...')\n",
    "    contract = code.deploy(keypair=Keypair.create_from_mnemonic(\n",
    "        menemonic),\n",
    "                        constructor=\"new\",\n",
    "                        args=constructor_args,\n",
    "                        value=0,\n",
    "                        gas_limit={'ref_time': 25990000000, 'proof_size': 1199000},\n",
    "                        upload_code=True)\n",
    "\n",
    "    return contract.contract_address"
   ]
  },
  {
   "cell_type": "code",
   "execution_count": 208,
   "metadata": {},
   "outputs": [
    {
     "name": "stdout",
     "output_type": "stream",
     "text": [
      "#![cfg_attr(not(feature = \"std\"), no_std, no_main)]\n",
      "#[ink::contract]\n",
      "mod contract_name {\n",
      "    #[ink(storage)]\n",
      "    pub struct Contract {\n",
      "        value1: i32,\n",
      "        value2: i32,\n",
      "    }\n",
      "\n",
      "    impl Contract {\n",
      "        #[ink(constructor)]\n",
      "        pub fn new() -> Self {\n",
      "            Self { value1: 1, value2: 2 }\n",
      "        }\n",
      "\n",
      "        #[ink(message)]\n",
      "        pub fn get_sum(&self) -> i32 {\n",
      "            self.value1 + self.value2\n",
      "        }\n",
      "    }\n",
      "}\n",
      "pub fn new()\n",
      "Output: [1/*] Building cargo project\n",
      " [2/4] Post processing code\n",
      " [3/4] Generating metadata\n",
      " [4/4] Generating bundle\n",
      "\n",
      "Original wasm size: 36.6K, Optimized: 11.7K\n",
      "\n",
      "The contract was built in DEBUG mode.\n",
      "\n",
      "Your contract artifacts are ready. You can find them in:\n",
      "c:\\Users\\asimj\\Documents\\Polkadot-Seoul\\langchain\\code\\target\\ink\n",
      "\n",
      "  - my_contract.contract (code + metadata)\n",
      "  - my_contract.wasm (the contract's code)\n",
      "  - my_contract.json (the contract's metadata)\n",
      "None\n",
      "Deploy contract...\n",
      "✅ Deployed @ aZYAzwJ36gkLCDtAWSHRfYBa995CErgyLVyZFATk3RDzvmT\n"
     ]
    }
   ],
   "source": [
    "genCompileDeployContract(\"A code that store value 1 and 2 and return the sum of the two values\")"
   ]
  },
  {
   "cell_type": "code",
   "execution_count": 24,
   "metadata": {},
   "outputs": [
    {
     "name": "stdout",
     "output_type": "stream",
     "text": [
      "\n",
      "\n",
      "\u001b[1m> Entering new AgentExecutor chain...\u001b[0m\n",
      "\u001b[32;1m\u001b[1;3m\n",
      "Invoking: `generate_ink_polkadot_contract` with `{'contract_description': 'A contract that stores value 1 and 2 and returns the sum of the two values'}`\n",
      "\n",
      "\n",
      "\u001b[0m#![cfg_attr(not(feature = \"std\"), no_std, no_main)]\n",
      "#[ink::contract]\n",
      "mod contract_name {\n",
      "    #[ink(storage)]\n",
      "    pub struct Contract {\n",
      "        value1: i32,\n",
      "        value2: i32,\n",
      "    }\n",
      "\n",
      "    impl Contract {\n",
      "        #[ink(constructor)]\n",
      "        pub fn new() -> Self {\n",
      "            Self {\n",
      "                value1: 1,\n",
      "                value2: 2,\n",
      "            }\n",
      "        }\n",
      "\n",
      "        #[ink(message)]\n",
      "        pub fn get_sum(&self) -> i32 {\n",
      "            self.value1 + self.value2\n",
      "        }\n",
      "    }\n",
      "}\n",
      "pub fn new()\n",
      "Output: [1/*] Building cargo project\n",
      " [2/4] Post processing code\n",
      " [3/4] Generating metadata\n",
      " [4/4] Generating bundle\n",
      "\n",
      "Original wasm size: 36.6K, Optimized: 11.7K\n",
      "\n",
      "The contract was built in DEBUG mode.\n",
      "\n",
      "Your contract artifacts are ready. You can find them in:\n",
      "c:\\Users\\asimj\\Documents\\Polkadot-Seoul\\langchain\\code\\target\\ink\n",
      "\n",
      "  - my_contract.contract (code + metadata)\n",
      "  - my_contract.wasm (the contract's code)\n",
      "  - my_contract.json (the contract's metadata)\n",
      "None\n",
      "Deploy contract...\n",
      "\u001b[33;1m\u001b[1;3mYUc12oBatBfu7rmNzn5Q8WKhfqZh2eoBNiQb45Z59MKpUpa\u001b[0m\u001b[32;1m\u001b[1;3mI have generated an ink contract with the description you provided. The contract has been deployed to Shibuya Testnet and the contract address is `YUc12oBatBfu7rmNzn5Q8WKhfqZh2eoBNiQb45Z59MKpUpa`.\u001b[0m\n",
      "\n",
      "\u001b[1m> Finished chain.\u001b[0m\n"
     ]
    },
    {
     "data": {
      "text/plain": [
       "'I have generated an ink contract with the description you provided. The contract has been deployed to Shibuya Testnet and the contract address is `YUc12oBatBfu7rmNzn5Q8WKhfqZh2eoBNiQb45Z59MKpUpa`.'"
      ]
     },
     "execution_count": 24,
     "metadata": {},
     "output_type": "execute_result"
    }
   ],
   "source": [
    "agent.run(\n",
    "    \"I would like to build an ink contract and deploy it to Shibuya Testnet. It should be a contract that stores value 1 and 2 and return the sum of the two values\"\n",
    ")"
   ]
  },
  {
   "cell_type": "code",
   "execution_count": null,
   "metadata": {},
   "outputs": [],
   "source": []
  }
 ],
 "metadata": {
  "kernelspec": {
   "display_name": "langchain",
   "language": "python",
   "name": "python3"
  },
  "language_info": {
   "codemirror_mode": {
    "name": "ipython",
    "version": 3
   },
   "file_extension": ".py",
   "mimetype": "text/x-python",
   "name": "python",
   "nbconvert_exporter": "python",
   "pygments_lexer": "ipython3",
   "version": "3.8.17"
  },
  "orig_nbformat": 4
 },
 "nbformat": 4,
 "nbformat_minor": 2
}
