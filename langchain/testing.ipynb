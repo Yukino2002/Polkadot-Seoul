{
 "cells": [
  {
   "cell_type": "code",
   "execution_count": 21,
   "metadata": {},
   "outputs": [],
   "source": [
    "from langchain.agents import initialize_agent, Tool\n",
    "from langchain.llms import OpenAI\n",
    "from langchain import LLMMathChain, SerpAPIWrapper\n",
    "from langchain.tools import BaseTool\n",
    "from pydantic import BaseModel, Field\n",
    "from typing import Type\n",
    "from langchain.chat_models import ChatOpenAI\n",
    "from langchain.agents import AgentType\n",
    "\n",
    "\n",
    "search = SerpAPIWrapper()\n",
    "tools = [\n",
    "    Tool(\n",
    "        name = \"Search\",\n",
    "        func=search.run,\n",
    "        description=\"useful for when you need to answer questions about current events\"\n",
    "    ),\n",
    "    Tool(\n",
    "        name=\"Music Search\",\n",
    "        func=lambda x: \"'All I Want For Christmas Is You' by Mariah Carey.\", #Mock Function\n",
    "        description=\"A Music search engine. Use this more than the normal search if the question is about Music, like 'who is the singer of yesterday?' or 'what is the most popular song in 2022?'\",\n",
    "    )\n",
    "]\n",
    "\n",
    "agent = initialize_agent(tools, OpenAI(temperature=0), agent=\"zero-shot-react-description\", verbose=True)"
   ]
  },
  {
   "cell_type": "code",
   "execution_count": 2,
   "metadata": {},
   "outputs": [
    {
     "name": "stdout",
     "output_type": "stream",
     "text": [
      "\n",
      "\n",
      "\u001b[1m> Entering new  chain...\u001b[0m\n",
      "\u001b[32;1m\u001b[1;3m I should use a music search engine to find the answer\n",
      "Action: Music Search\n",
      "Action Input: most famous song of christmas\u001b[0m\n",
      "Observation: \u001b[33;1m\u001b[1;3m'All I Want For Christmas Is You' by Mariah Carey.\u001b[0m\n",
      "Thought:\u001b[32;1m\u001b[1;3m I now know the final answer\n",
      "Final Answer: 'All I Want For Christmas Is You' by Mariah Carey.\u001b[0m\n",
      "\n",
      "\u001b[1m> Finished chain.\u001b[0m\n"
     ]
    },
    {
     "data": {
      "text/plain": [
       "\"'All I Want For Christmas Is You' by Mariah Carey.\""
      ]
     },
     "execution_count": 2,
     "metadata": {},
     "output_type": "execute_result"
    }
   ],
   "source": [
    "agent.run(\"what is the most famous song of christmas\")"
   ]
  },
  {
   "cell_type": "code",
   "execution_count": 5,
   "metadata": {},
   "outputs": [],
   "source": [
    "from substrateinterface import SubstrateInterface, Keypair\n",
    "from substrateinterface.contracts import ContractCode, ContractInstance\n",
    "from substrateinterface.exceptions import SubstrateRequestException\n",
    "\n",
    "substrate_relay = SubstrateInterface(url=\"wss://shibuya-rpc.dwellir.com\")\n",
    "substrate_contract = SubstrateInterface(\n",
    "    url='wss://rococo-contracts-rpc.polkadot.io')"
   ]
  },
  {
   "cell_type": "code",
   "execution_count": 7,
   "metadata": {},
   "outputs": [],
   "source": [
    "def format_balance(amount: int):\n",
    "    amount = format(\n",
    "        amount / 10**substrate_relay.properties.get('tokenDecimals', 0),\n",
    "        \".15g\")\n",
    "    return f\"{amount} {substrate_relay.properties.get('tokenSymbol', 'UNIT')}\""
   ]
  },
  {
   "cell_type": "code",
   "execution_count": 8,
   "metadata": {},
   "outputs": [],
   "source": [
    "def get_account_balance(account_address):\n",
    "    result = substrate_relay.query(\"System\", \"Account\", [account_address])\n",
    "    balance = (result.value[\"data\"][\"free\"] + result.value[\"data\"][\"reserved\"])\n",
    "\n",
    "    return format_balance(balance)"
   ]
  },
  {
   "cell_type": "code",
   "execution_count": 9,
   "metadata": {},
   "outputs": [],
   "source": [
    "def get_polkadot_account_balance(account_address):\n",
    "    \"\"\"Method to get the balance of a Polkadot account.\"\"\"\n",
    "    result = substrate_relay.query(\"System\", \"Account\", [account_address])\n",
    "    balance = (result.value[\"data\"][\"free\"] + result.value[\"data\"][\"reserved\"])\n",
    "\n",
    "    return format_balance(balance)"
   ]
  },
  {
   "cell_type": "code",
   "execution_count": 10,
   "metadata": {},
   "outputs": [
    {
     "name": "stdout",
     "output_type": "stream",
     "text": [
      "9.74665958012062 SBY\n"
     ]
    }
   ],
   "source": [
    "print(get_account_balance(\"5DvyRvNq5jpvjat2qkGhiKjJQdz5cwreJW5yxvLBLRpHnoGo\"))"
   ]
  },
  {
   "cell_type": "code",
   "execution_count": 22,
   "metadata": {},
   "outputs": [],
   "source": [
    "class GetAccountBalanceInput(BaseModel):\n",
    "    \"\"\"Inputs for get_account_balance\"\"\"\n",
    "\n",
    "    account_address: str = Field(description=\"the address of the account to get the balance of\")\n",
    "\n",
    "class  GetAccountBalanceTool(BaseTool):\n",
    "    name = \"get_account_balance\"\n",
    "    description = \"\"\"\n",
    "        Useful when you want to get the balance of an polkadot account.\n",
    "        The account address is the address of the account you want to get the balance of.\n",
    "        The address format is ss58 encoded.\n",
    "        \"\"\"\n",
    "    args_schema: Type[BaseModel] = GetAccountBalanceInput\n",
    "\n",
    "    def _run(self, account_address: str):\n",
    "        account_balance = get_account_balance(account_address)\n",
    "        return account_balance\n",
    "\n",
    "    def _arun(self, account_address: str):\n",
    "        raise NotImplementedError(\"get_current_stock_price does not support async\")"
   ]
  },
  {
   "cell_type": "code",
   "execution_count": 23,
   "metadata": {},
   "outputs": [],
   "source": [
    "\n",
    "llm = ChatOpenAI(model=\"gpt-3.5-turbo-0613\", temperature=0)\n",
    "tools = [GetAccountBalanceTool()]\n",
    "agent = initialize_agent(tools, llm, agent=AgentType.OPENAI_FUNCTIONS, verbose=True)\n",
    "\n"
   ]
  },
  {
   "cell_type": "code",
   "execution_count": 24,
   "metadata": {},
   "outputs": [
    {
     "name": "stdout",
     "output_type": "stream",
     "text": [
      "\n",
      "\n",
      "\u001b[1m> Entering new  chain...\u001b[0m\n",
      "\u001b[32;1m\u001b[1;3m\n",
      "Invoking: `get_account_balance` with `{'account_address': '5DvyRvNq5jpvjat2qkGhiKjJQdz5cwreJW5yxvLBLRpHnoGo'}`\n",
      "\n",
      "\n",
      "\u001b[0m\u001b[36;1m\u001b[1;3m9.74665958012062 SBY\u001b[0m\u001b[32;1m\u001b[1;3mThe balance of the account 5DvyRvNq5jpvjat2qkGhiKjJQdz5cwreJW5yxvLBLRpHnoGo is 9.74665958012062 SBY.\u001b[0m\n",
      "\n",
      "\u001b[1m> Finished chain.\u001b[0m\n"
     ]
    },
    {
     "data": {
      "text/plain": [
       "'The balance of the account 5DvyRvNq5jpvjat2qkGhiKjJQdz5cwreJW5yxvLBLRpHnoGo is 9.74665958012062 SBY.'"
      ]
     },
     "execution_count": 24,
     "metadata": {},
     "output_type": "execute_result"
    }
   ],
   "source": [
    "agent.run(\n",
    "    \"What is the balance of the account 5DvyRvNq5jpvjat2qkGhiKjJQdz5cwreJW5yxvLBLRpHnoGo?\"\n",
    ")"
   ]
  },
  {
   "cell_type": "code",
   "execution_count": null,
   "metadata": {},
   "outputs": [],
   "source": []
  }
 ],
 "metadata": {
  "kernelspec": {
   "display_name": "langchain",
   "language": "python",
   "name": "python3"
  },
  "language_info": {
   "codemirror_mode": {
    "name": "ipython",
    "version": 3
   },
   "file_extension": ".py",
   "mimetype": "text/x-python",
   "name": "python",
   "nbconvert_exporter": "python",
   "pygments_lexer": "ipython3",
   "version": "3.8.17"
  },
  "orig_nbformat": 4
 },
 "nbformat": 4,
 "nbformat_minor": 2
}
