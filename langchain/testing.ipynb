{
 "cells": [
  {
   "cell_type": "code",
   "execution_count": 3,
   "metadata": {},
   "outputs": [
    {
     "name": "stderr",
     "output_type": "stream",
     "text": [
      "c:\\Users\\asimj\\.conda\\envs\\langchain\\lib\\site-packages\\deeplake\\util\\check_latest_version.py:32: UserWarning: A newer version of deeplake (3.6.12) is available. It's recommended that you update to the latest version using `pip install -U deeplake`.\n",
      "  warnings.warn(\n"
     ]
    }
   ],
   "source": [
    "from langchain.agents import initialize_agent, Tool\n",
    "from langchain.llms import OpenAI\n",
    "from langchain import LLMMathChain, SerpAPIWrapper\n",
    "from langchain.tools import BaseTool\n",
    "from pydantic import BaseModel, Field\n",
    "from typing import Type\n",
    "from langchain.chat_models import ChatOpenAI\n",
    "from langchain.agents import AgentType\n",
    "import os\n",
    "from getpass import getpass\n",
    "from langchain.document_loaders import TextLoader\n",
    "from langchain.text_splitter import CharacterTextSplitter\n",
    "from langchain.embeddings.openai import OpenAIEmbeddings\n",
    "from langchain.vectorstores import DeepLake\n",
    "from langchain.chat_models import ChatOpenAI\n",
    "from langchain.chains import ConversationalRetrievalChain\n",
    "import re\n",
    "import ast\n",
    "from langchain.schema import (\n",
    "    AIMessage,\n",
    "    HumanMessage,\n",
    "    SystemMessage\n",
    ")"
   ]
  },
  {
   "cell_type": "code",
   "execution_count": 4,
   "metadata": {},
   "outputs": [],
   "source": [
    "from substrateinterface import SubstrateInterface, Keypair\n",
    "from substrateinterface.contracts import ContractCode, ContractInstance\n",
    "from substrateinterface.exceptions import SubstrateRequestException\n",
    "\n",
    "substrate_relay = SubstrateInterface(url=\"wss://shibuya-rpc.dwellir.com\")\n",
    "substrate_contract = SubstrateInterface(\n",
    "    url='wss://rococo-contracts-rpc.polkadot.io')"
   ]
  },
  {
   "cell_type": "code",
   "execution_count": 5,
   "metadata": {},
   "outputs": [],
   "source": [
    "def format_balance(amount: int):\n",
    "    amount = format(\n",
    "        amount / 10**substrate_relay.properties.get('tokenDecimals', 0),\n",
    "        \".15g\")\n",
    "    return f\"{amount} {substrate_relay.properties.get('tokenSymbol', 'UNIT')}\""
   ]
  },
  {
   "cell_type": "code",
   "execution_count": 6,
   "metadata": {},
   "outputs": [],
   "source": [
    "def get_account_balance(account_address):\n",
    "    result = substrate_relay.query(\"System\", \"Account\", [account_address])\n",
    "    balance = (result.value[\"data\"][\"free\"] + result.value[\"data\"][\"reserved\"])\n",
    "\n",
    "    return format_balance(balance)"
   ]
  },
  {
   "cell_type": "code",
   "execution_count": 7,
   "metadata": {},
   "outputs": [],
   "source": [
    "def get_polkadot_account_balance(account_address):\n",
    "    \"\"\"Method to get the balance of a Polkadot account.\"\"\"\n",
    "    result = substrate_relay.query(\"System\", \"Account\", [account_address])\n",
    "    balance = (result.value[\"data\"][\"free\"] + result.value[\"data\"][\"reserved\"])\n",
    "\n",
    "    return format_balance(balance)"
   ]
  },
  {
   "cell_type": "code",
   "execution_count": 31,
   "metadata": {},
   "outputs": [],
   "source": [
    "def send_balance(recipient_address, amount):\n",
    "    call = substrate_relay.compose_call(call_module='Balances',\n",
    "                                        call_function='transfer',\n",
    "                                        call_params={\n",
    "                                            'dest': recipient_address,\n",
    "                                            'value': amount * 10**15\n",
    "                                        })\n",
    "\n",
    "    extrinsic = substrate_relay.create_signed_extrinsic(\n",
    "        call=call,\n",
    "        keypair=Keypair.create_from_mnemonic(menemonic),\n",
    "        era={'period': 64})\n",
    "\n",
    "    try:\n",
    "        receipt = substrate_relay.submit_extrinsic(extrinsic,\n",
    "                                                   wait_for_inclusion=True)\n",
    "\n",
    "        print('Extrinsic \"{}\" included in block \"{}\"'.format(\n",
    "            receipt.extrinsic_hash, receipt.block_hash))\n",
    "\n",
    "        print(receipt)\n",
    "\n",
    "        if receipt.is_success:\n",
    "            print('✅ Success, triggered events:')\n",
    "            for event in receipt.triggered_events:\n",
    "                print(f'* {event.value}')\n",
    "        else:\n",
    "            print('⚠️ Extrinsic Failed: ', receipt.error_message)\n",
    "\n",
    "        return receipt\n",
    "\n",
    "    except Substrate_relayRequestException as e:\n",
    "        print(e)\n",
    "        return False"
   ]
  },
  {
   "cell_type": "code",
   "execution_count": 67,
   "metadata": {},
   "outputs": [],
   "source": [
    "def get_transfer_details(extrinsic_index):\n",
    "    url = base_url + \"/api/scan/extrinsic\"\n",
    "    headers = {\"Content-Type\": \"application/json\", \"X-API-Key\": api_key}\n",
    "    payload = {\"extrinsic_index\": extrinsic_index}\n",
    "\n",
    "    response = requests.post(url, headers=headers, json=payload)\n",
    "    return response.json()"
   ]
  },
  {
   "cell_type": "code",
   "execution_count": 68,
   "metadata": {},
   "outputs": [
    {
     "data": {
      "text/plain": [
       "{'code': 0, 'message': 'Success', 'generated_at': 1690027071, 'data': None}"
      ]
     },
     "execution_count": 68,
     "metadata": {},
     "output_type": "execute_result"
    }
   ],
   "source": [
    "get_transfer_details(\"0x8d32669ece6e69c8bdf6b1381b566264ef38e5f0226d67eca1703238b9c88d25\")"
   ]
  },
  {
   "cell_type": "code",
   "execution_count": 8,
   "metadata": {},
   "outputs": [
    {
     "name": "stdout",
     "output_type": "stream",
     "text": [
      "9.74665958012062 SBY\n"
     ]
    }
   ],
   "source": [
    "print(get_account_balance(\"5DvyRvNq5jpvjat2qkGhiKjJQdz5cwreJW5yxvLBLRpHnoGo\"))"
   ]
  },
  {
   "cell_type": "code",
   "execution_count": 79,
   "metadata": {},
   "outputs": [],
   "source": [
    "class GetAccountBalanceInput(BaseModel):\n",
    "    \"\"\"Inputs for get_account_balance\"\"\"\n",
    "\n",
    "    account_address: str = Field(description=\"the address of the account to get the balance of\")\n",
    "\n",
    "class  GetAccountBalanceTool(BaseTool):\n",
    "    name = \"get_account_balance\"\n",
    "    description = \"\"\"\n",
    "        Useful when you want to get the balance of an polkadot account.\n",
    "        The account address is the address of the account you want to get the balance of.\n",
    "        The address format is ss58 encoded.\n",
    "        \"\"\"\n",
    "    args_schema: Type[BaseModel] = GetAccountBalanceInput\n",
    "\n",
    "    def _run(self, account_address: str):\n",
    "        account_balance = get_account_balance(account_address)\n",
    "        return account_balance\n",
    "\n",
    "    def _arun(self, account_address: str):\n",
    "        raise NotImplementedError(\"get_current_stock_price does not support async\")\n",
    "        \n",
    "class GenerateInkPolkadotContractInput(BaseModel):\n",
    "    \"\"\"Inputs for generate_ink_polkadot_contract\"\"\"\n",
    "\n",
    "    contract_description: str = Field(description=\"A description in simple english of what you would like the contract to do\")\n",
    "\n",
    "class GenerateInkPolkadotContractTool(BaseTool):\n",
    "    name = \"generate_ink_polkadot_contract\"\n",
    "    description = \"\"\"\n",
    "        Useful when you want to generate a polkadot contract in ink or just an ink contract.\n",
    "        The contract description is a description of what you would like the contract to do.\n",
    "        \n",
    "        This also deploys the code to Shibuya Testnet.\n",
    "\n",
    "        returns the contract address\n",
    "        \"\"\"\n",
    "    args_schema: Type[BaseModel] = GenerateInkPolkadotContractInput\n",
    "\n",
    "    def _run(self, contract_description: str):\n",
    "        address = genCompileDeployContract(contract_description)\n",
    "        return address\n",
    "\n",
    "        \n",
    "    def _arun(self, account_address: str):\n",
    "        raise NotImplementedError(\"get_current_stock_price does not support async\")\n",
    "\n",
    "class SendSubstrateBalanceInput(BaseModel):\n",
    "    \"\"\"Inputs for send_substrate_balance\"\"\"\n",
    "\n",
    "    recipient_address: str = Field(description=\"the address of the account to send the balance to\")\n",
    "    amount: float = Field(description=\"the amount to send.\")\n",
    "\n",
    "class SendSubstrateBalanceTool(BaseTool):\n",
    "    name = \"send_substrate_balance\"\n",
    "    description = \"\"\"\n",
    "        Useful when you want to send a balance to a polkadot account.\n",
    "        If balance is not specified send 0.001\n",
    "        We will be sending Shibuya Testnet tokens/SBY.\n",
    "        returns the extrinsic hash if successful\n",
    "        \"\"\"\n",
    "    args_schema: Type[BaseModel] = SendSubstrateBalanceInput\n",
    "\n",
    "    def _run(self, recipient_address: str, amount: int):\n",
    "        res = send_balance(recipient_address, amount)\n",
    "        return res.extrinsic_hash\n",
    "\n",
    "    def _arun(self, account_address: str):\n",
    "        raise NotImplementedError(\"get_current_stock_price does not support async\")\n",
    "\n",
    "class ListAllTransactionsInput(BaseModel):\n",
    "    \"\"\"Inputs for list_all_transactions\"\"\"\n",
    "\n",
    "    account_address: str = Field(description=\"the address of the account to get the transactions of\")\n",
    "\n",
    "class ListAllTransactionsTool(BaseTool):\n",
    "    name = \"list_all_transactions\"\n",
    "    description = \"\"\"\n",
    "        Useful when you want to list all transactions of a polkadot account.\n",
    "        Lists the last first 3 and last 3 transactions.\n",
    "        \"\"\"\n",
    "    args_schema: Type[BaseModel] = ListAllTransactionsInput\n",
    "\n",
    "    def _run(self, account_address: str):\n",
    "        res = get_account_transfers(account_address)\n",
    "        return res\n",
    "    \n",
    "    def _arun(self, account_address: str):\n",
    "        raise NotImplementedError(\"list_all_transactions does not support async\")\n",
    "\n",
    "class GetTransferDetailsInput(BaseModel):\n",
    "    \"\"\"Inputs for get_transfer_details\"\"\"\n",
    "\n",
    "    extrinsic_hash: str = Field(description=\"the extrinsic hash of the transaction to get the details of, starts with 0x\")\n",
    "\n",
    "class GetTransferDetailsTool(BaseTool):\n",
    "    name = \"get_transfer_details\"\n",
    "    description = \"\"\"\n",
    "        Useful when you want to get the details of a transaction.\n",
    "        returns code, if successful, block time and data if it exists.\n",
    "        \"\"\"\n",
    "    args_schema: Type[BaseModel] = GetTransferDetailsInput\n",
    "\n",
    "    def _run(self, extrinsic_hash: str):\n",
    "        res = get_transfer_details(extrinsic_hash)\n",
    "        return [\"successfully retreived data. Data:\", res]\n",
    "    \n",
    "    def _arun(self, account_address: str):\n",
    "        raise NotImplementedError(\"get_transfer_details does not support async\")\n",
    "\n",
    "llm = ChatOpenAI(model=\"gpt-3.5-turbo-0613\", temperature=0)\n",
    "tools = [GetAccountBalanceTool(), GenerateInkPolkadotContractTool(), SendSubstrateBalanceTool(), ListAllTransactionsTool(), GetTransferDetailsTool()]\n",
    "agent = initialize_agent(tools, llm, agent=AgentType.OPENAI_FUNCTIONS, verbose=True)\n"
   ]
  },
  {
   "cell_type": "code",
   "execution_count": 10,
   "metadata": {},
   "outputs": [
    {
     "name": "stdout",
     "output_type": "stream",
     "text": [
      "Deep Lake Dataset in hub://commanderastern/polka-code-3 already exists, loading from the storage\n"
     ]
    }
   ],
   "source": [
    "embeddings = OpenAIEmbeddings()\n",
    "db = DeepLake(\n",
    "    dataset_path=f\"hub://commanderastern/polka-code-3\",\n",
    "    read_only=True,\n",
    "    embedding_function=embeddings,\n",
    ")"
   ]
  },
  {
   "cell_type": "code",
   "execution_count": 11,
   "metadata": {},
   "outputs": [],
   "source": [
    "retriever = db.as_retriever()\n",
    "retriever.search_kwargs[\"distance_metric\"] = \"cos\"\n",
    "retriever.search_kwargs[\"fetch_k\"] = 20\n",
    "retriever.search_kwargs[\"maximal_marginal_relevance\"] = True\n",
    "retriever.search_kwargs[\"k\"] = 20"
   ]
  },
  {
   "cell_type": "code",
   "execution_count": 12,
   "metadata": {},
   "outputs": [],
   "source": [
    "def filter(x):\n",
    "    # filter based on source code\n",
    "    if \"something\" in x[\"text\"].data()[\"value\"]:\n",
    "        return False\n",
    "\n",
    "    # filter based on path e.g. extension\n",
    "    metadata = x[\"metadata\"].data()[\"value\"]\n",
    "    return \"only_this\" in metadata[\"source\"] or \"also_that\" in metadata[\"source\"]"
   ]
  },
  {
   "cell_type": "code",
   "execution_count": 13,
   "metadata": {},
   "outputs": [],
   "source": [
    "from langchain.chat_models import ChatOpenAI\n",
    "from langchain.chains import ConversationalRetrievalChain\n",
    "\n",
    "model = ChatOpenAI(model_name=\"gpt-3.5-turbo-16k\")  # 'ada' 'gpt-3.5-turbo' 'gpt-4',\n",
    "qa = ConversationalRetrievalChain.from_llm(model, retriever=retriever)"
   ]
  },
  {
   "cell_type": "code",
   "execution_count": 15,
   "metadata": {},
   "outputs": [],
   "source": [
    "import subprocess\n",
    "\n",
    "def run_command(command):\n",
    "    process = subprocess.Popen(command, stdout=subprocess.PIPE, stderr=subprocess.PIPE, shell=True)\n",
    "    output, error = process.communicate()\n",
    "\n",
    "    if process.returncode != 0:\n",
    "        print(f\"Error occurred: {error.decode().strip()}\")\n",
    "    else:\n",
    "        print(f\"Output: {output.decode().strip()}\")\n"
   ]
  },
  {
   "cell_type": "code",
   "execution_count": 16,
   "metadata": {},
   "outputs": [],
   "source": [
    "menemonic = \"edge lawn cost piano narrow annual movie duty forum patient check output\""
   ]
  },
  {
   "cell_type": "code",
   "execution_count": 17,
   "metadata": {},
   "outputs": [
    {
     "name": "stdout",
     "output_type": "stream",
     "text": [
      "Deep Lake Dataset in hub://commanderastern/polka-code-2 already exists, loading from the storage\n"
     ]
    },
    {
     "name": "stderr",
     "output_type": "stream",
     "text": [
      "WARNING! temprature is not default parameter.\n",
      "                    temprature was transferred to model_kwargs.\n",
      "                    Please confirm that temprature is what you intended.\n"
     ]
    }
   ],
   "source": [
    "#setup for generating and deploy\n",
    "embeddings = OpenAIEmbeddings()\n",
    "db = DeepLake(\n",
    "    dataset_path=f\"hub://commanderastern/polka-code-2\",\n",
    "    read_only=True,\n",
    "    embedding_function=embeddings,\n",
    ")\n",
    "\n",
    "retriever = db.as_retriever()\n",
    "retriever.search_kwargs[\"distance_metric\"] = \"cos\"\n",
    "retriever.search_kwargs[\"fetch_k\"] = 20\n",
    "retriever.search_kwargs[\"maximal_marginal_relevance\"] = True\n",
    "retriever.search_kwargs[\"k\"] = 20\n",
    "\n",
    "def filter(x):\n",
    "    # filter based on source code\n",
    "    if \"something\" in x[\"text\"].data()[\"value\"]:\n",
    "        return False\n",
    "\n",
    "    # filter based on path e.g. extension\n",
    "    metadata = x[\"metadata\"].data()[\"value\"]\n",
    "    return \"only_this\" in metadata[\"source\"] or \"also_that\" in metadata[\"source\"]\n",
    "model_genContract = ChatOpenAI(model_name=\"gpt-3.5-turbo-16k\", temprature = 0)  # 'ada' 'gpt-3.5-turbo' 'gpt-4',\n",
    "\n",
    "qa = ConversationalRetrievalChain.from_llm(model_genContract, retriever=retriever)\n",
    "menemonic = \"edge lawn cost piano narrow annual movie duty forum patient check output\"\n",
    "\n",
    "def run_command(command):\n",
    "    process = subprocess.Popen(command, stdout=subprocess.PIPE, stderr=subprocess.PIPE, shell=True)\n",
    "    output, error = process.communicate()\n",
    "\n",
    "    if process.returncode != 0:\n",
    "        print(f\"Error occurred: {error.decode().strip()}\")\n",
    "    else:\n",
    "        print(f\"Output: {output.decode().strip()}\")"
   ]
  },
  {
   "cell_type": "code",
   "execution_count": 32,
   "metadata": {},
   "outputs": [],
   "source": [
    "def genCompileDeployContract(description: str):\n",
    "    '''\n",
    "    Generate, compile and deploy a contract to Shibuya Testnet\n",
    "    '''\n",
    "    questions = [\n",
    "    f\"\"\"\n",
    "    Give me a basic ink contract code, \n",
    "    Description of code = {description}\n",
    "    \"\"\"+\"\"\"\n",
    "    -- There should be no print statments in the contract return everything.\n",
    "    -- enclose the contract content in #startContract# and #endContract#\n",
    "    -- follow this basic format when generating the code\n",
    "\n",
    "    #startContract#\n",
    "    #[ink::contract]\n",
    "    mod contract_name \\{\n",
    "\n",
    "    }\n",
    "    #endContract#\n",
    "    \"\"\"\n",
    "    ]\n",
    "\n",
    "    chat_history = []\n",
    "\n",
    "    # extrating the contract code from the result\n",
    "    result = qa({\"question\": questions[0], \"chat_history\": chat_history})\n",
    "    chat_history.append((questions[0], result[\"answer\"]))\n",
    "\n",
    "    pattern = r'#startContract#(.*?)#endContract#'\n",
    "    pattern2 = r'```rust(.*?)```'\n",
    "    contract_code = re.search(pattern, result[\"answer\"], re.DOTALL)\n",
    "    res = \"\"\n",
    "    \n",
    "    if contract_code:\n",
    "        res = contract_code.group(1).strip()\n",
    "    else:\n",
    "        contract_code = re.search(pattern2, result[\"answer\"], re.DOTALL)\n",
    "        if contract_code:\n",
    "            res = contract_code.group(1).strip()\n",
    "    res = r\"\"\"#![cfg_attr(not(feature = \"std\"), no_std, no_main)]\"\"\" + '\\n'+ res\n",
    "    post_process_code = re.sub(r'^\\s*use.*\\n?', '', res, flags=re.MULTILINE)\n",
    "\n",
    "    post_process_code = re.sub(r'^\\s*struct', 'pub struct', post_process_code, flags=re.MULTILINE)\n",
    "\n",
    "    post_process_code = re.sub(r'^\\s*#\\s*\\[derive\\(.*\\n?', '', post_process_code, flags=re.MULTILINE)\n",
    "\n",
    "    print(post_process_code)\n",
    "\n",
    "    # generating the constructor args\n",
    "    new_function_pattern = r'(pub fn new.*?\\))'\n",
    "    new_function_match = re.search(new_function_pattern, post_process_code, re.DOTALL)\n",
    "\n",
    "    if new_function_match:\n",
    "        res = new_function_match.group(0)\n",
    "    print(res)\n",
    "    chat = ChatOpenAI()\n",
    "    messages = [\n",
    "        SystemMessage(content=r\"\"\"\n",
    "        give the argumentsvalues for \"pub fn new(value1: i32, value2: i32)\" in the form of a dictionary\n",
    "        -- Just the dictionary\n",
    "        -- No need fore explanation or additional code\n",
    "        -- empty dictionary is also fine\n",
    "        -- for invalid input empty dictionary will be returned\n",
    "        example: \n",
    "        Input: pub fn new(coolVal: i32)\n",
    "        Output: {\"coolVal\": 1}\"\"\"),\n",
    "        HumanMessage(content=f\"{res}\")\n",
    "    ]\n",
    "    constructor_args = ast.literal_eval(chat(messages).content)\n",
    "\n",
    "    with open('code/lib.rs', 'w') as file:\n",
    "        file.write(post_process_code)\n",
    "\n",
    "    # compiling contract\n",
    "    print(run_command(\"cd code && cargo contract build\"))\n",
    "\n",
    "    # Upload WASM code\n",
    "    code = ContractCode.create_from_contract_files(\n",
    "        metadata_file=os.path.join(os.getcwd(), 'code/target/ink',\n",
    "                                'my_contract.json'),\n",
    "        wasm_file=os.path.join(os.getcwd(), 'code/target/ink',\n",
    "                            'my_contract.wasm'),\n",
    "        substrate=substrate_relay)\n",
    "\n",
    "    # Deploy contract\n",
    "    print('Deploy contract...')\n",
    "    contract = code.deploy(keypair=Keypair.create_from_mnemonic(\n",
    "        menemonic),\n",
    "                        constructor=\"new\",\n",
    "                        args=constructor_args,\n",
    "                        value=0,\n",
    "                        gas_limit={'ref_time': 25990000000, 'proof_size': 1199000},\n",
    "                        upload_code=True)\n",
    "\n",
    "    return contract.contract_address"
   ]
  },
  {
   "cell_type": "code",
   "execution_count": 24,
   "metadata": {},
   "outputs": [
    {
     "name": "stdout",
     "output_type": "stream",
     "text": [
      "\n",
      "\n",
      "\u001b[1m> Entering new AgentExecutor chain...\u001b[0m\n",
      "\u001b[32;1m\u001b[1;3m\n",
      "Invoking: `generate_ink_polkadot_contract` with `{'contract_description': 'A contract that stores value 1 and 2 and returns the sum of the two values'}`\n",
      "\n",
      "\n",
      "\u001b[0m#![cfg_attr(not(feature = \"std\"), no_std, no_main)]\n",
      "#[ink::contract]\n",
      "mod contract_name {\n",
      "    #[ink(storage)]\n",
      "    pub struct Contract {\n",
      "        value1: i32,\n",
      "        value2: i32,\n",
      "    }\n",
      "\n",
      "    impl Contract {\n",
      "        #[ink(constructor)]\n",
      "        pub fn new() -> Self {\n",
      "            Self {\n",
      "                value1: 1,\n",
      "                value2: 2,\n",
      "            }\n",
      "        }\n",
      "\n",
      "        #[ink(message)]\n",
      "        pub fn get_sum(&self) -> i32 {\n",
      "            self.value1 + self.value2\n",
      "        }\n",
      "    }\n",
      "}\n",
      "pub fn new()\n",
      "Output: [1/*] Building cargo project\n",
      " [2/4] Post processing code\n",
      " [3/4] Generating metadata\n",
      " [4/4] Generating bundle\n",
      "\n",
      "Original wasm size: 36.6K, Optimized: 11.7K\n",
      "\n",
      "The contract was built in DEBUG mode.\n",
      "\n",
      "Your contract artifacts are ready. You can find them in:\n",
      "c:\\Users\\asimj\\Documents\\Polkadot-Seoul\\langchain\\code\\target\\ink\n",
      "\n",
      "  - my_contract.contract (code + metadata)\n",
      "  - my_contract.wasm (the contract's code)\n",
      "  - my_contract.json (the contract's metadata)\n",
      "None\n",
      "Deploy contract...\n",
      "\u001b[33;1m\u001b[1;3mYUc12oBatBfu7rmNzn5Q8WKhfqZh2eoBNiQb45Z59MKpUpa\u001b[0m\u001b[32;1m\u001b[1;3mI have generated an ink contract with the description you provided. The contract has been deployed to Shibuya Testnet and the contract address is `YUc12oBatBfu7rmNzn5Q8WKhfqZh2eoBNiQb45Z59MKpUpa`.\u001b[0m\n",
      "\n",
      "\u001b[1m> Finished chain.\u001b[0m\n"
     ]
    },
    {
     "data": {
      "text/plain": [
       "'I have generated an ink contract with the description you provided. The contract has been deployed to Shibuya Testnet and the contract address is `YUc12oBatBfu7rmNzn5Q8WKhfqZh2eoBNiQb45Z59MKpUpa`.'"
      ]
     },
     "execution_count": 24,
     "metadata": {},
     "output_type": "execute_result"
    }
   ],
   "source": [
    "agent.run(\n",
    "    \"I would like to build an ink contract and deploy it to Shibuya Testnet. It should be a contract that stores value 1 and 2 and return the sum of the two values\"\n",
    ")"
   ]
  },
  {
   "cell_type": "code",
   "execution_count": 63,
   "metadata": {},
   "outputs": [],
   "source": [
    "from dotenv import load_dotenv\n",
    "import os\n",
    "import requests\n",
    "load_dotenv()\n",
    "\n",
    "base_url = \"https://shibuya.api.subscan.io\"\n",
    "substrate_relay = SubstrateInterface(url=\"wss://shibuya-rpc.dwellir.com\")\n",
    "substrate_contract = SubstrateInterface(\n",
    "    url='wss://rococo-contracts-rpc.polkadot.io')\n",
    "api_key = os.getenv(\"API_KEY\")\n",
    "\n",
    "def get_account_transfers(account_address):\n",
    "    url = base_url + \"/api/scan/transfers\"\n",
    "    headers = {\"Content-Type\": \"application/json\", \"X-API-Key\": api_key}\n",
    "    payload = {\"address\": account_address, \"row\": 100}\n",
    "\n",
    "    response = requests.post(url, headers=headers, json=payload)\n",
    "    data = response.json()\n",
    "    \n",
    "    res_list = []\n",
    "\n",
    "    # Get all the transfers\n",
    "    transfers = data['data']['transfers']\n",
    "\n",
    "    # Get the first 3 and last 3 transfers\n",
    "    selected_transfers = transfers[:3] + transfers[-3:]\n",
    "    \n",
    "    for transfer in selected_transfers:\n",
    "\n",
    "        # Get timestamp and amount\n",
    "        timestamp = transfer['block_timestamp']\n",
    "        amount = transfer['amount']\n",
    "\n",
    "        # Get addresses and truncate\n",
    "        from_address = transfer['from'][:5] + '...' + transfer['from'][-5:]\n",
    "        to_address = transfer['to'][:5] + '...' + transfer['to'][-5:]\n",
    "\n",
    "        res_list.append((f\"Timestamp: {timestamp}, Amount: {amount}, From: {from_address}, To: {to_address}\"))\n",
    "    return res_list\n"
   ]
  },
  {
   "cell_type": "code",
   "execution_count": 64,
   "metadata": {},
   "outputs": [
    {
     "data": {
      "text/plain": [
       "['Timestamp: 1690024932, Amount: 0.000001, From: W8KWN...a8WzK, To: YXNdg...8mKXp',\n",
       " 'Timestamp: 1690024896, Amount: 0.01, From: W8KWN...a8WzK, To: YXNdg...8mKXp',\n",
       " 'Timestamp: 1690024812, Amount: 0.1, From: W8KWN...a8WzK, To: YXNdg...8mKXp',\n",
       " 'Timestamp: 1689618036, Amount: 0.000000002, From: W8KWN...a8WzK, To: XZH7C...5BQBn',\n",
       " 'Timestamp: 1689618036, Amount: 0.000000122, From: W8KWN...a8WzK, To: XZH7C...5BQBn',\n",
       " 'Timestamp: 1689617520, Amount: 10, From: WiXeZ...wWgQB, To: W8KWN...a8WzK']"
      ]
     },
     "execution_count": 64,
     "metadata": {},
     "output_type": "execute_result"
    }
   ],
   "source": [
    "get_account_transfers(\"5CFj55X2XWR1x6DL5W6WUBFmYYB82r37mAw9ukYXsmGcYatd\")"
   ]
  },
  {
   "cell_type": "code",
   "execution_count": 66,
   "metadata": {},
   "outputs": [
    {
     "name": "stdout",
     "output_type": "stream",
     "text": [
      "\n",
      "\n",
      "\u001b[1m> Entering new AgentExecutor chain...\u001b[0m\n",
      "\u001b[32;1m\u001b[1;3m\n",
      "Invoking: `list_all_transactions` with `{'account_address': '5CFj55X2XWR1x6DL5W6WUBFmYYB82r37mAw9ukYXsmGcYatd'}`\n",
      "\n",
      "\n",
      "\u001b[0m\u001b[36;1m\u001b[1;3m['Timestamp: 1690024932, Amount: 0.000001, From: W8KWN...a8WzK, To: YXNdg...8mKXp', 'Timestamp: 1690024896, Amount: 0.01, From: W8KWN...a8WzK, To: YXNdg...8mKXp', 'Timestamp: 1690024812, Amount: 0.1, From: W8KWN...a8WzK, To: YXNdg...8mKXp', 'Timestamp: 1689618036, Amount: 0.000000002, From: W8KWN...a8WzK, To: XZH7C...5BQBn', 'Timestamp: 1689618036, Amount: 0.000000122, From: W8KWN...a8WzK, To: XZH7C...5BQBn', 'Timestamp: 1689617520, Amount: 10, From: WiXeZ...wWgQB, To: W8KWN...a8WzK']\u001b[0m\u001b[32;1m\u001b[1;3mHere are the last 3 and first 3 transactions of the account with address 5CFj55X2XWR1x6DL5W6WUBFmYYB82r37mAw9ukYXsmGcYatd:\n",
      "\n",
      "1. Timestamp: 1690024932, Amount: 0.000001, From: W8KWN...a8WzK, To: YXNdg...8mKXp\n",
      "2. Timestamp: 1690024896, Amount: 0.01, From: W8KWN...a8WzK, To: YXNdg...8mKXp\n",
      "3. Timestamp: 1690024812, Amount: 0.1, From: W8KWN...a8WzK, To: YXNdg...8mKXp\n",
      "\n",
      "4. Timestamp: 1689618036, Amount: 0.000000002, From: W8KWN...a8WzK, To: XZH7C...5BQBn\n",
      "5. Timestamp: 1689618036, Amount: 0.000000122, From: W8KWN...a8WzK, To: XZH7C...5BQBn\n",
      "6. Timestamp: 1689617520, Amount: 10, From: WiXeZ...wWgQB, To: W8KWN...a8WzK\u001b[0m\n",
      "\n",
      "\u001b[1m> Finished chain.\u001b[0m\n"
     ]
    },
    {
     "data": {
      "text/plain": [
       "'Here are the last 3 and first 3 transactions of the account with address 5CFj55X2XWR1x6DL5W6WUBFmYYB82r37mAw9ukYXsmGcYatd:\\n\\n1. Timestamp: 1690024932, Amount: 0.000001, From: W8KWN...a8WzK, To: YXNdg...8mKXp\\n2. Timestamp: 1690024896, Amount: 0.01, From: W8KWN...a8WzK, To: YXNdg...8mKXp\\n3. Timestamp: 1690024812, Amount: 0.1, From: W8KWN...a8WzK, To: YXNdg...8mKXp\\n\\n4. Timestamp: 1689618036, Amount: 0.000000002, From: W8KWN...a8WzK, To: XZH7C...5BQBn\\n5. Timestamp: 1689618036, Amount: 0.000000122, From: W8KWN...a8WzK, To: XZH7C...5BQBn\\n6. Timestamp: 1689617520, Amount: 10, From: WiXeZ...wWgQB, To: W8KWN...a8WzK'"
      ]
     },
     "execution_count": 66,
     "metadata": {},
     "output_type": "execute_result"
    }
   ],
   "source": [
    "agent.run(\"i want to get all the transactions of 5CFj55X2XWR1x6DL5W6WUBFmYYB82r37mAw9ukYXsmGcYatd\")"
   ]
  },
  {
   "cell_type": "code",
   "execution_count": 52,
   "metadata": {},
   "outputs": [
    {
     "name": "stdout",
     "output_type": "stream",
     "text": [
      "\n",
      "\n",
      "\u001b[1m> Entering new AgentExecutor chain...\u001b[0m\n",
      "\u001b[32;1m\u001b[1;3m\n",
      "Invoking: `send_substrate_balance` with `{'recipient_address': '5EenCP39eEQt5uwCxfktmD5d6natP94jK7uuMTnzQ2vBBSC6', 'amount': 0.001}`\n",
      "\n",
      "\n",
      "\u001b[0mExtrinsic \"0x8d32669ece6e69c8bdf6b1381b566264ef38e5f0226d67eca1703238b9c88d25\" included in block \"0x681be6eef200549c99545dd1abb717625eec342f07ff594e2e740c90b4e35713\"\n",
      "<substrateinterface.base.ExtrinsicReceipt object at 0x00000214463B3610>\n",
      "✅ Success, triggered events:\n",
      "* {'phase': 'ApplyExtrinsic', 'extrinsic_idx': 2, 'event': {'event_index': '1f08', 'module_id': 'Balances', 'event_id': 'Withdraw', 'attributes': {'who': 'W8KWNV7Jk48AvFAZoYdVqR3datF14jrnNSJ9TkPk8Ga8WzK', 'amount': 1560011251110461}}, 'event_index': 31, 'module_id': 'Balances', 'event_id': 'Withdraw', 'attributes': {'who': 'W8KWNV7Jk48AvFAZoYdVqR3datF14jrnNSJ9TkPk8Ga8WzK', 'amount': 1560011251110461}, 'topics': []}\n",
      "* {'phase': 'ApplyExtrinsic', 'extrinsic_idx': 2, 'event': {'event_index': '1f02', 'module_id': 'Balances', 'event_id': 'Transfer', 'attributes': {'from': 'W8KWNV7Jk48AvFAZoYdVqR3datF14jrnNSJ9TkPk8Ga8WzK', 'to': 'YXNdg1ERU3zJjy3SyD1nsEuBqJ1MMmULKR3bAzrGPv8mKXp', 'amount': 1000000000000}}, 'event_index': 31, 'module_id': 'Balances', 'event_id': 'Transfer', 'attributes': {'from': 'W8KWNV7Jk48AvFAZoYdVqR3datF14jrnNSJ9TkPk8Ga8WzK', 'to': 'YXNdg1ERU3zJjy3SyD1nsEuBqJ1MMmULKR3bAzrGPv8mKXp', 'amount': 1000000000000}, 'topics': []}\n",
      "* {'phase': 'ApplyExtrinsic', 'extrinsic_idx': 2, 'event': {'event_index': '1f07', 'module_id': 'Balances', 'event_id': 'Deposit', 'attributes': {'who': 'YQnbw3h6couUX48Ghs3qyzhdbyxA3Gu9KQCoi8z2CPBf9N3', 'amount': 1248009000888369}}, 'event_index': 31, 'module_id': 'Balances', 'event_id': 'Deposit', 'attributes': {'who': 'YQnbw3h6couUX48Ghs3qyzhdbyxA3Gu9KQCoi8z2CPBf9N3', 'amount': 1248009000888369}, 'topics': []}\n",
      "* {'phase': 'ApplyExtrinsic', 'extrinsic_idx': 2, 'event': {'event_index': '1e00', 'module_id': 'TransactionPayment', 'event_id': 'TransactionFeePaid', 'attributes': {'who': 'W8KWNV7Jk48AvFAZoYdVqR3datF14jrnNSJ9TkPk8Ga8WzK', 'actual_fee': 1560011251110461, 'tip': 0}}, 'event_index': 30, 'module_id': 'TransactionPayment', 'event_id': 'TransactionFeePaid', 'attributes': {'who': 'W8KWNV7Jk48AvFAZoYdVqR3datF14jrnNSJ9TkPk8Ga8WzK', 'actual_fee': 1560011251110461, 'tip': 0}, 'topics': []}\n",
      "* {'phase': 'ApplyExtrinsic', 'extrinsic_idx': 2, 'event': {'event_index': '0a00', 'module_id': 'System', 'event_id': 'ExtrinsicSuccess', 'attributes': {'dispatch_info': {'weight': {'ref_time': 273154000, 'proof_size': 2603}, 'class': 'Normal', 'pays_fee': 'Yes'}}}, 'event_index': 10, 'module_id': 'System', 'event_id': 'ExtrinsicSuccess', 'attributes': {'dispatch_info': {'weight': {'ref_time': 273154000, 'proof_size': 2603}, 'class': 'Normal', 'pays_fee': 'Yes'}}, 'topics': []}\n",
      "\u001b[38;5;200m\u001b[1;3m0x8d32669ece6e69c8bdf6b1381b566264ef38e5f0226d67eca1703238b9c88d25\u001b[0m\u001b[32;1m\u001b[1;3mI have successfully sent 0.001 SBY to the address 5EenCP39eEQt5uwCxfktmD5d6natP94jK7uuMTnzQ2vBBSC6. The transaction hash is 0x8d32669ece6e69c8bdf6b1381b566264ef38e5f0226d67eca1703238b9c88d25.\u001b[0m\n",
      "\n",
      "\u001b[1m> Finished chain.\u001b[0m\n"
     ]
    },
    {
     "data": {
      "text/plain": [
       "'I have successfully sent 0.001 SBY to the address 5EenCP39eEQt5uwCxfktmD5d6natP94jK7uuMTnzQ2vBBSC6. The transaction hash is 0x8d32669ece6e69c8bdf6b1381b566264ef38e5f0226d67eca1703238b9c88d25.'"
      ]
     },
     "execution_count": 52,
     "metadata": {},
     "output_type": "execute_result"
    }
   ],
   "source": [
    "agent.run(\"I would like to send 0.001 SBY to 5EenCP39eEQt5uwCxfktmD5d6natP94jK7uuMTnzQ2vBBSC6\")"
   ]
  },
  {
   "cell_type": "code",
   "execution_count": 80,
   "metadata": {},
   "outputs": [
    {
     "name": "stdout",
     "output_type": "stream",
     "text": [
      "\n",
      "\n",
      "\u001b[1m> Entering new AgentExecutor chain...\u001b[0m\n",
      "\u001b[32;1m\u001b[1;3m\n",
      "Invoking: `get_transfer_details` with `{'extrinsic_hash': '0x8d32669ece6e69c8bdf6b1381b566264ef38e5f0226d67eca1703238b9c88d25'}`\n",
      "\n",
      "\n",
      "\u001b[0m\u001b[33;1m\u001b[1;3m['successfully retreived data. Data:', {'code': 0, 'message': 'Success', 'generated_at': 1690027497, 'data': None}]\u001b[0m\u001b[32;1m\u001b[1;3mThe details of the transaction with the extrinsic hash 0x8d32669ece6e69c8bdf6b1381b566264ef38e5f0226d67eca1703238b9c88d25 are as follows:\n",
      "\n",
      "- Code: 0\n",
      "- Message: Success\n",
      "- Generated At: 1690027497\n",
      "- Data: null\n",
      "\n",
      "Please note that the data field is null, indicating that there is no additional data associated with this transaction.\u001b[0m\n",
      "\n",
      "\u001b[1m> Finished chain.\u001b[0m\n"
     ]
    },
    {
     "data": {
      "text/plain": [
       "'The details of the transaction with the extrinsic hash 0x8d32669ece6e69c8bdf6b1381b566264ef38e5f0226d67eca1703238b9c88d25 are as follows:\\n\\n- Code: 0\\n- Message: Success\\n- Generated At: 1690027497\\n- Data: null\\n\\nPlease note that the data field is null, indicating that there is no additional data associated with this transaction.'"
      ]
     },
     "execution_count": 80,
     "metadata": {},
     "output_type": "execute_result"
    }
   ],
   "source": [
    "agent.run(\"Can you get the details of this transaction 0x8d32669ece6e69c8bdf6b1381b566264ef38e5f0226d67eca1703238b9c88d25\")"
   ]
  },
  {
   "cell_type": "code",
   "execution_count": 37,
   "metadata": {},
   "outputs": [
    {
     "name": "stdout",
     "output_type": "stream",
     "text": [
      "Extrinsic \"0xf30e17460a83d417ab0b19a965a5d7d7a44d2db30559797c4efd78d5e5c24ed4\" included in block \"0xfd0e305fca10a791f2d21382b463835d8f6f6cf55c54aa737f38a2f90891d306\"\n",
      "<substrateinterface.base.ExtrinsicReceipt object at 0x00000214463A4430>\n",
      "✅ Success, triggered events:\n",
      "* {'phase': 'ApplyExtrinsic', 'extrinsic_idx': 2, 'event': {'event_index': '1f08', 'module_id': 'Balances', 'event_id': 'Withdraw', 'attributes': {'who': 'W8KWNV7Jk48AvFAZoYdVqR3datF14jrnNSJ9TkPk8Ga8WzK', 'amount': 1560011252740561}}, 'event_index': 31, 'module_id': 'Balances', 'event_id': 'Withdraw', 'attributes': {'who': 'W8KWNV7Jk48AvFAZoYdVqR3datF14jrnNSJ9TkPk8Ga8WzK', 'amount': 1560011252740561}, 'topics': []}\n",
      "* {'phase': 'ApplyExtrinsic', 'extrinsic_idx': 2, 'event': {'event_index': '1f02', 'module_id': 'Balances', 'event_id': 'Transfer', 'attributes': {'from': 'W8KWNV7Jk48AvFAZoYdVqR3datF14jrnNSJ9TkPk8Ga8WzK', 'to': 'YXNdg1ERU3zJjy3SyD1nsEuBqJ1MMmULKR3bAzrGPv8mKXp', 'amount': 1000000000000}}, 'event_index': 31, 'module_id': 'Balances', 'event_id': 'Transfer', 'attributes': {'from': 'W8KWNV7Jk48AvFAZoYdVqR3datF14jrnNSJ9TkPk8Ga8WzK', 'to': 'YXNdg1ERU3zJjy3SyD1nsEuBqJ1MMmULKR3bAzrGPv8mKXp', 'amount': 1000000000000}, 'topics': []}\n",
      "* {'phase': 'ApplyExtrinsic', 'extrinsic_idx': 2, 'event': {'event_index': '1f07', 'module_id': 'Balances', 'event_id': 'Deposit', 'attributes': {'who': 'YQnbw3h6couUX48Ghs3qyzhdbyxA3Gu9KQCoi8z2CPBf9N3', 'amount': 1248009002192449}}, 'event_index': 31, 'module_id': 'Balances', 'event_id': 'Deposit', 'attributes': {'who': 'YQnbw3h6couUX48Ghs3qyzhdbyxA3Gu9KQCoi8z2CPBf9N3', 'amount': 1248009002192449}, 'topics': []}\n",
      "* {'phase': 'ApplyExtrinsic', 'extrinsic_idx': 2, 'event': {'event_index': '1e00', 'module_id': 'TransactionPayment', 'event_id': 'TransactionFeePaid', 'attributes': {'who': 'W8KWNV7Jk48AvFAZoYdVqR3datF14jrnNSJ9TkPk8Ga8WzK', 'actual_fee': 1560011252740561, 'tip': 0}}, 'event_index': 30, 'module_id': 'TransactionPayment', 'event_id': 'TransactionFeePaid', 'attributes': {'who': 'W8KWNV7Jk48AvFAZoYdVqR3datF14jrnNSJ9TkPk8Ga8WzK', 'actual_fee': 1560011252740561, 'tip': 0}, 'topics': []}\n",
      "* {'phase': 'ApplyExtrinsic', 'extrinsic_idx': 2, 'event': {'event_index': '0a00', 'module_id': 'System', 'event_id': 'ExtrinsicSuccess', 'attributes': {'dispatch_info': {'weight': {'ref_time': 273154000, 'proof_size': 2603}, 'class': 'Normal', 'pays_fee': 'Yes'}}}, 'event_index': 10, 'module_id': 'System', 'event_id': 'ExtrinsicSuccess', 'attributes': {'dispatch_info': {'weight': {'ref_time': 273154000, 'proof_size': 2603}, 'class': 'Normal', 'pays_fee': 'Yes'}}, 'topics': []}\n"
     ]
    }
   ],
   "source": [
    "res = send_balance(\"5EenCP39eEQt5uwCxfktmD5d6natP94jK7uuMTnzQ2vBBSC6\", 0.001)"
   ]
  },
  {
   "cell_type": "code",
   "execution_count": 44,
   "metadata": {},
   "outputs": [
    {
     "data": {
      "text/plain": [
       "'0xf30e17460a83d417ab0b19a965a5d7d7a44d2db30559797c4efd78d5e5c24ed4'"
      ]
     },
     "execution_count": 44,
     "metadata": {},
     "output_type": "execute_result"
    }
   ],
   "source": [
    "res = "
   ]
  }
 ],
 "metadata": {
  "kernelspec": {
   "display_name": "langchain",
   "language": "python",
   "name": "python3"
  },
  "language_info": {
   "codemirror_mode": {
    "name": "ipython",
    "version": 3
   },
   "file_extension": ".py",
   "mimetype": "text/x-python",
   "name": "python",
   "nbconvert_exporter": "python",
   "pygments_lexer": "ipython3",
   "version": "3.8.17"
  },
  "orig_nbformat": 4
 },
 "nbformat": 4,
 "nbformat_minor": 2
}
