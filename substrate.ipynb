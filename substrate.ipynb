{
 "cells": [
  {
   "cell_type": "code",
   "execution_count": 1,
   "metadata": {},
   "outputs": [],
   "source": [
    "from substrateinterface import SubstrateInterface, Keypair\n",
    "from substrateinterface.contracts import ContractCode, ContractInstance\n",
    "from substrateinterface.exceptions import SubstrateRequestException\n",
    "from dotenv import load_dotenv\n",
    "import os\n",
    "import requests"
   ]
  },
  {
   "cell_type": "code",
   "execution_count": 2,
   "metadata": {},
   "outputs": [],
   "source": [
    "load_dotenv()\n",
    "\n",
    "base_url = \"https://rococo.api.subscan.io\"\n",
    "substrate_relay = SubstrateInterface(url=\"wss://shibuya-rpc.dwellir.com\")\n",
    "substrate_contract = SubstrateInterface(\n",
    "    url='wss://rococo-contracts-rpc.polkadot.io')\n",
    "api_key = os.getenv(\"API_KEY\")"
   ]
  },
  {
   "cell_type": "code",
   "execution_count": 3,
   "metadata": {},
   "outputs": [],
   "source": [
    "def format_balance(amount: int):\n",
    "    amount = format(\n",
    "        amount / 10**substrate_relay.properties.get('tokenDecimals', 0),\n",
    "        \".15g\")\n",
    "    return f\"{amount} {substrate_relay.properties.get('tokenSymbol', 'UNIT')}\"\n",
    "\n",
    "\n",
    "def get_account_transfers(account_address):\n",
    "    url = base_url + \"/api/scan/transfers\"\n",
    "    headers = {\"Content-Type\": \"application/json\", \"X-API-Key\": api_key}\n",
    "    payload = {\"address\": account_address, \"row\": 100}\n",
    "\n",
    "    response = requests.post(url, headers=headers, json=payload)\n",
    "    return response.json()\n",
    "\n",
    "\n",
    "def get_account_balance(account_address):\n",
    "    result = substrate_relay.query(\"System\", \"Account\", [account_address])\n",
    "    balance = (result.value[\"data\"][\"free\"] + result.value[\"data\"][\"reserved\"])\n",
    "\n",
    "    return format_balance(balance)\n",
    "\n",
    "\n",
    "def get_transfer_details(extrinsic_index):\n",
    "    url = base_url + \"/api/scan/extrinsic\"\n",
    "    headers = {\"Content-Type\": \"application/json\", \"X-API-Key\": api_key}\n",
    "    payload = {\"extrinsic_index\": extrinsic_index}\n",
    "\n",
    "    response = requests.post(url, headers=headers, json=payload)\n",
    "    return response.json()\n",
    "\n",
    "\n",
    "def send_balance(recipient_address, amount):\n",
    "    call = substrate_relay.compose_call(call_module='Balances',\n",
    "                                        call_function='transfer',\n",
    "                                        call_params={\n",
    "                                            'dest': recipient_address,\n",
    "                                            'value': amount * 10**15\n",
    "                                        })\n",
    "\n",
    "    extrinsic = substrate_relay.create_signed_extrinsic(\n",
    "        call=call,\n",
    "        keypair=Keypair.create_from_mnemonic(os.getenv(\"MNEMONIC\")),\n",
    "        era={'period': 64})\n",
    "\n",
    "    try:\n",
    "        receipt = substrate_relay.submit_extrinsic(extrinsic,\n",
    "                                                   wait_for_inclusion=True)\n",
    "\n",
    "        print('Extrinsic \"{}\" included in block \"{}\"'.format(\n",
    "            receipt.extrinsic_hash, receipt.block_hash))\n",
    "\n",
    "        print(receipt)\n",
    "\n",
    "        if receipt.is_success:\n",
    "            print('✅ Success, triggered events:')\n",
    "            for event in receipt.triggered_events:\n",
    "                print(f'* {event.value}')\n",
    "        else:\n",
    "            print('⚠️ Extrinsic Failed: ', receipt.error_message)\n",
    "\n",
    "        return receipt\n",
    "\n",
    "    except Substrate_relayRequestException as e:\n",
    "        print(e)\n",
    "        return False"
   ]
  },
  {
   "cell_type": "code",
   "execution_count": 4,
   "metadata": {},
   "outputs": [
    {
     "data": {
      "text/plain": [
       "'c:\\\\Users\\\\asimj\\\\Documents\\\\Polkadot-Seoul\\\\assets\\\\my_contract.json'"
      ]
     },
     "execution_count": 4,
     "metadata": {},
     "output_type": "execute_result"
    }
   ],
   "source": [
    "os.path.join(os.getcwd(), 'assets',\n",
    "                               'my_contract.json')"
   ]
  },
  {
   "cell_type": "code",
   "execution_count": 5,
   "metadata": {},
   "outputs": [],
   "source": [
    "res = \"edge lawn cost piano narrow annual movie duty forum patient check output\""
   ]
  },
  {
   "cell_type": "code",
   "execution_count": 7,
   "metadata": {},
   "outputs": [
    {
     "name": "stdout",
     "output_type": "stream",
     "text": [
      "Deploy contract...\n"
     ]
    },
    {
     "ename": "ValueError",
     "evalue": "Constructor \"newBrosi\" not found",
     "output_type": "error",
     "traceback": [
      "\u001b[1;31m---------------------------------------------------------------------------\u001b[0m",
      "\u001b[1;31mValueError\u001b[0m                                Traceback (most recent call last)",
      "Cell \u001b[1;32mIn[7], line 11\u001b[0m\n\u001b[0;32m      9\u001b[0m \u001b[39m# Deploy contract\u001b[39;00m\n\u001b[0;32m     10\u001b[0m \u001b[39mprint\u001b[39m(\u001b[39m'\u001b[39m\u001b[39mDeploy contract...\u001b[39m\u001b[39m'\u001b[39m)\n\u001b[1;32m---> 11\u001b[0m contract \u001b[39m=\u001b[39m code\u001b[39m.\u001b[39;49mdeploy(keypair\u001b[39m=\u001b[39;49mKeypair\u001b[39m.\u001b[39;49mcreate_from_mnemonic(\n\u001b[0;32m     12\u001b[0m     res),\n\u001b[0;32m     13\u001b[0m                        constructor\u001b[39m=\u001b[39;49m\u001b[39m\"\u001b[39;49m\u001b[39mnewBrosi\u001b[39;49m\u001b[39m\"\u001b[39;49m,\n\u001b[0;32m     14\u001b[0m                        args\u001b[39m=\u001b[39;49m{\u001b[39m'\u001b[39;49m\u001b[39minit_value\u001b[39;49m\u001b[39m'\u001b[39;49m: \u001b[39mTrue\u001b[39;49;00m},\n\u001b[0;32m     15\u001b[0m                        value\u001b[39m=\u001b[39;49m\u001b[39m0\u001b[39;49m,\n\u001b[0;32m     16\u001b[0m                        gas_limit\u001b[39m=\u001b[39;49m{\u001b[39m'\u001b[39;49m\u001b[39mref_time\u001b[39;49m\u001b[39m'\u001b[39;49m: \u001b[39m25990000000\u001b[39;49m, \u001b[39m'\u001b[39;49m\u001b[39mproof_size\u001b[39;49m\u001b[39m'\u001b[39;49m: \u001b[39m1199000\u001b[39;49m},\n\u001b[0;32m     17\u001b[0m                        upload_code\u001b[39m=\u001b[39;49m\u001b[39mTrue\u001b[39;49;00m)\n\u001b[0;32m     19\u001b[0m \u001b[39mprint\u001b[39m(\u001b[39mf\u001b[39m\u001b[39m'\u001b[39m\u001b[39m✅ Deployed @ \u001b[39m\u001b[39m{\u001b[39;00mcontract\u001b[39m.\u001b[39mcontract_address\u001b[39m}\u001b[39;00m\u001b[39m'\u001b[39m)\n",
      "File \u001b[1;32mc:\\Users\\asimj\\.conda\\envs\\langchain\\lib\\site-packages\\substrateinterface\\contracts.py:648\u001b[0m, in \u001b[0;36mContractCode.deploy\u001b[1;34m(self, keypair, constructor, args, value, gas_limit, deployment_salt, upload_code, storage_deposit_limit)\u001b[0m\n\u001b[0;32m    627\u001b[0m \u001b[39m\u001b[39m\u001b[39m\"\"\"\u001b[39;00m\n\u001b[0;32m    628\u001b[0m \u001b[39mDeploys a new instance of the contract after it has been uploaded on-chain, with provided constructor and\u001b[39;00m\n\u001b[0;32m    629\u001b[0m \u001b[39mconstructor arguments\u001b[39;00m\n\u001b[1;32m   (...)\u001b[0m\n\u001b[0;32m    644\u001b[0m \u001b[39mContractInstance\u001b[39;00m\n\u001b[0;32m    645\u001b[0m \u001b[39m\"\"\"\u001b[39;00m\n\u001b[0;32m    647\u001b[0m \u001b[39m# Lookup constructor\u001b[39;00m\n\u001b[1;32m--> 648\u001b[0m data \u001b[39m=\u001b[39m \u001b[39mself\u001b[39;49m\u001b[39m.\u001b[39;49mmetadata\u001b[39m.\u001b[39;49mgenerate_constructor_data(name\u001b[39m=\u001b[39;49mconstructor, args\u001b[39m=\u001b[39;49margs)\n\u001b[0;32m    650\u001b[0m \u001b[39mif\u001b[39;00m gas_limit \u001b[39mis\u001b[39;00m \u001b[39mNone\u001b[39;00m:\n\u001b[0;32m    651\u001b[0m     gas_limit \u001b[39m=\u001b[39m {\u001b[39m'\u001b[39m\u001b[39mref_time\u001b[39m\u001b[39m'\u001b[39m: \u001b[39m25990000000\u001b[39m, \u001b[39m'\u001b[39m\u001b[39mproof_size\u001b[39m\u001b[39m'\u001b[39m: \u001b[39m11990383647911208550\u001b[39m}\n",
      "File \u001b[1;32mc:\\Users\\asimj\\.conda\\envs\\langchain\\lib\\site-packages\\substrateinterface\\contracts.py:205\u001b[0m, in \u001b[0;36mContractMetadata.generate_constructor_data\u001b[1;34m(self, name, args)\u001b[0m\n\u001b[0;32m    199\u001b[0m                 data \u001b[39m+\u001b[39m\u001b[39m=\u001b[39m \u001b[39mself\u001b[39m\u001b[39m.\u001b[39msubstrate\u001b[39m.\u001b[39mencode_scale(\n\u001b[0;32m    200\u001b[0m                     type_string\u001b[39m=\u001b[39m\u001b[39mself\u001b[39m\u001b[39m.\u001b[39mget_type_string_for_metadata_type(arg[\u001b[39m'\u001b[39m\u001b[39mtype\u001b[39m\u001b[39m'\u001b[39m][\u001b[39m'\u001b[39m\u001b[39mtype\u001b[39m\u001b[39m'\u001b[39m]),\n\u001b[0;32m    201\u001b[0m                     value\u001b[39m=\u001b[39margs[arg[\u001b[39m'\u001b[39m\u001b[39mlabel\u001b[39m\u001b[39m'\u001b[39m]]\n\u001b[0;32m    202\u001b[0m                 )\n\u001b[0;32m    203\u001b[0m         \u001b[39mreturn\u001b[39;00m data\n\u001b[1;32m--> 205\u001b[0m \u001b[39mraise\u001b[39;00m \u001b[39mValueError\u001b[39;00m(\u001b[39mf\u001b[39m\u001b[39m'\u001b[39m\u001b[39mConstructor \u001b[39m\u001b[39m\"\u001b[39m\u001b[39m{\u001b[39;00mname\u001b[39m}\u001b[39;00m\u001b[39m\"\u001b[39m\u001b[39m not found\u001b[39m\u001b[39m'\u001b[39m)\n",
      "\u001b[1;31mValueError\u001b[0m: Constructor \"newBrosi\" not found"
     ]
    }
   ],
   "source": [
    "# Upload WASM code\n",
    "code = ContractCode.create_from_contract_files(\n",
    "    metadata_file=os.path.join(os.getcwd(), 'assets',\n",
    "                               'my_contract.json'),\n",
    "    wasm_file=os.path.join(os.getcwd(), 'assets',\n",
    "                           'my_contract.wasm'),\n",
    "    substrate=substrate_relay)\n",
    "\n",
    "# Deploy contract\n",
    "print('Deploy contract...')\n",
    "contract = code.deploy(keypair=Keypair.create_from_mnemonic(\n",
    "    res),\n",
    "                       constructor=\"new\",\n",
    "                       args={'init_value': True},\n",
    "                       value=0,\n",
    "                       gas_limit={'ref_time': 25990000000, 'proof_size': 1199000},\n",
    "                       upload_code=True)\n",
    "\n",
    "print(f'✅ Deployed @ {contract.contract_address}')"
   ]
  },
  {
   "cell_type": "code",
   "execution_count": null,
   "metadata": {},
   "outputs": [],
   "source": []
  }
 ],
 "metadata": {
  "kernelspec": {
   "display_name": "langchain",
   "language": "python",
   "name": "python3"
  },
  "language_info": {
   "codemirror_mode": {
    "name": "ipython",
    "version": 3
   },
   "file_extension": ".py",
   "mimetype": "text/x-python",
   "name": "python",
   "nbconvert_exporter": "python",
   "pygments_lexer": "ipython3",
   "version": "3.8.17"
  },
  "orig_nbformat": 4
 },
 "nbformat": 4,
 "nbformat_minor": 2
}
