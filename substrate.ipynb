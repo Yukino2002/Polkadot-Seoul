{
 "cells": [
  {
   "cell_type": "code",
   "execution_count": 1,
   "metadata": {},
   "outputs": [],
   "source": [
    "from substrateinterface import SubstrateInterface, Keypair\n",
    "from substrateinterface.contracts import ContractCode, ContractInstance\n",
    "from substrateinterface.exceptions import SubstrateRequestException\n",
    "from dotenv import load_dotenv\n",
    "import os\n",
    "import requests"
   ]
  },
  {
   "cell_type": "code",
   "execution_count": 2,
   "metadata": {},
   "outputs": [],
   "source": [
    "load_dotenv()\n",
    "\n",
    "base_url = \"https://rococo.api.subscan.io\"\n",
    "substrate_relay = SubstrateInterface(url=\"wss://shibuya-rpc.dwellir.com\")\n",
    "substrate_contract = SubstrateInterface(\n",
    "    url='wss://rococo-contracts-rpc.polkadot.io')\n",
    "api_key = os.getenv(\"API_KEY\")"
   ]
  },
  {
   "cell_type": "code",
   "execution_count": 3,
   "metadata": {},
   "outputs": [],
   "source": [
    "def format_balance(amount: int):\n",
    "    amount = format(\n",
    "        amount / 10**substrate_relay.properties.get('tokenDecimals', 0),\n",
    "        \".15g\")\n",
    "    return f\"{amount} {substrate_relay.properties.get('tokenSymbol', 'UNIT')}\"\n",
    "\n",
    "\n",
    "def get_account_transfers(account_address):\n",
    "    url = base_url + \"/api/scan/transfers\"\n",
    "    headers = {\"Content-Type\": \"application/json\", \"X-API-Key\": api_key}\n",
    "    payload = {\"address\": account_address, \"row\": 100}\n",
    "\n",
    "    response = requests.post(url, headers=headers, json=payload)\n",
    "    return response.json()\n",
    "\n",
    "\n",
    "def get_account_balance(account_address):\n",
    "    result = substrate_relay.query(\"System\", \"Account\", [account_address])\n",
    "    balance = (result.value[\"data\"][\"free\"] + result.value[\"data\"][\"reserved\"])\n",
    "\n",
    "    return format_balance(balance)\n",
    "\n",
    "\n",
    "def get_transfer_details(extrinsic_index):\n",
    "    url = base_url + \"/api/scan/extrinsic\"\n",
    "    headers = {\"Content-Type\": \"application/json\", \"X-API-Key\": api_key}\n",
    "    payload = {\"extrinsic_index\": extrinsic_index}\n",
    "\n",
    "    response = requests.post(url, headers=headers, json=payload)\n",
    "    return response.json()\n",
    "\n",
    "\n",
    "def send_balance(recipient_address, amount):\n",
    "    call = substrate_relay.compose_call(call_module='Balances',\n",
    "                                        call_function='transfer',\n",
    "                                        call_params={\n",
    "                                            'dest': recipient_address,\n",
    "                                            'value': amount * 10**15\n",
    "                                        })\n",
    "\n",
    "    extrinsic = substrate_relay.create_signed_extrinsic(\n",
    "        call=call,\n",
    "        keypair=Keypair.create_from_mnemonic(os.getenv(\"MNEMONIC\")),\n",
    "        era={'period': 64})\n",
    "\n",
    "    try:\n",
    "        receipt = substrate_relay.submit_extrinsic(extrinsic,\n",
    "                                                   wait_for_inclusion=True)\n",
    "\n",
    "        print('Extrinsic \"{}\" included in block \"{}\"'.format(\n",
    "            receipt.extrinsic_hash, receipt.block_hash))\n",
    "\n",
    "        print(receipt)\n",
    "\n",
    "        if receipt.is_success:\n",
    "            print('✅ Success, triggered events:')\n",
    "            for event in receipt.triggered_events:\n",
    "                print(f'* {event.value}')\n",
    "        else:\n",
    "            print('⚠️ Extrinsic Failed: ', receipt.error_message)\n",
    "\n",
    "        return receipt\n",
    "\n",
    "    except Substrate_relayRequestException as e:\n",
    "        print(e)\n",
    "        return False"
   ]
  },
  {
   "cell_type": "code",
   "execution_count": 4,
   "metadata": {},
   "outputs": [
    {
     "data": {
      "text/plain": [
       "'c:\\\\Users\\\\asimj\\\\Documents\\\\Polkadot-Seoul\\\\assets\\\\my_contract.json'"
      ]
     },
     "execution_count": 4,
     "metadata": {},
     "output_type": "execute_result"
    }
   ],
   "source": [
    "os.path.join(os.getcwd(), 'assets',\n",
    "                               'my_contract.json')"
   ]
  },
  {
   "cell_type": "code",
   "execution_count": 5,
   "metadata": {},
   "outputs": [],
   "source": [
    "menemonic = \"edge lawn cost piano narrow annual movie duty forum patient check output\""
   ]
  },
  {
   "cell_type": "code",
   "execution_count": 6,
   "metadata": {},
   "outputs": [
    {
     "name": "stdout",
     "output_type": "stream",
     "text": [
      "Deploy contract...\n",
      "✅ Deployed @ aAhiHLK1dXfzCrhP7pnjVueSLRpRZfRiVNHQtz6uqxJqzqf\n"
     ]
    }
   ],
   "source": [
    "# Upload WASM code\n",
    "code = ContractCode.create_from_contract_files(\n",
    "    metadata_file=os.path.join(os.getcwd(), 'my_contract/target/ink',\n",
    "                               'my_contract.json'),\n",
    "    wasm_file=os.path.join(os.getcwd(), 'my_contract/target/ink',\n",
    "                           'my_contract.wasm'),\n",
    "    substrate=substrate_relay)\n",
    "\n",
    "# Deploy contract\n",
    "print('Deploy contract...')\n",
    "contract = code.deploy(keypair=Keypair.create_from_mnemonic(\n",
    "    Embeddings),\n",
    "                       constructor=\"new\",\n",
    "                       args={'init_value': True},\n",
    "                       value=0,\n",
    "                       gas_limit={'ref_time': 25990000000, 'proof_size': 1199000},\n",
    "                       upload_code=True)\n",
    "\n",
    "print(f'✅ Deployed @ {contract.contract_address}')"
   ]
  },
  {
   "cell_type": "code",
   "execution_count": 11,
   "metadata": {},
   "outputs": [],
   "source": [
    "from substrateinterface import SubstrateInterface, Keypair\n",
    "from substrateinterface.contracts import ContractCode, ContractInstance\n",
    "from substrateinterface.exceptions import SubstrateRequestException\n",
    "from dotenv import load_dotenv\n",
    "import os\n",
    "import requests\n",
    "\n",
    "load_dotenv()\n",
    "\n",
    "base_url = \"https://shibuya.api.subscan.io\"\n",
    "substrate_relay = SubstrateInterface(url=\"wss://shibuya-rpc.dwellir.com\")\n",
    "api_key = os.getenv(\"API_KEY\")\n",
    "test = os.getenv(\"MNEMONIC\")"
   ]
  },
  {
   "cell_type": "code",
   "execution_count": 14,
   "metadata": {},
   "outputs": [
    {
     "name": "stdout",
     "output_type": "stream",
     "text": [
      "<substrateinterface.contracts.ContractInstance object at 0x0000017419B586A0>\n",
      "{'Ok': {'flags': [], 'data': {'Ok': 10}}}\n"
     ]
    }
   ],
   "source": [
    "contract = ContractInstance.create_from_address(\n",
    "    contract_address='ZeKg7HtCRdTvtQP3dMcyjVsdoyQUPQYUzeDZA2C4nhus11W',\n",
    "    metadata_file=os.path.join(os.getcwd(), 'assets',\n",
    "                               'erc20.json'),\n",
    "    substrate=substrate_relay)\n",
    "\n",
    "# call total_supply\n",
    "result = contract.read(Keypair.create_from_mnemonic(os.getenv(\"MNEMONIC\")),\n",
    "                       'total_supply')\n",
    "\n",
    "print(result['result'])"
   ]
  },
  {
   "cell_type": "code",
   "execution_count": null,
   "metadata": {},
   "outputs": [],
   "source": []
  }
 ],
 "metadata": {
  "kernelspec": {
   "display_name": "langchain",
   "language": "python",
   "name": "python3"
  },
  "language_info": {
   "codemirror_mode": {
    "name": "ipython",
    "version": 3
   },
   "file_extension": ".py",
   "mimetype": "text/x-python",
   "name": "python",
   "nbconvert_exporter": "python",
   "pygments_lexer": "ipython3",
   "version": "3.8.17"
  },
  "orig_nbformat": 4
 },
 "nbformat": 4,
 "nbformat_minor": 2
}
