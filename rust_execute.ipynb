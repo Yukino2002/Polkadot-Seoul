{
 "cells": [
  {
   "cell_type": "code",
   "execution_count": 1,
   "metadata": {},
   "outputs": [
    {
     "name": "stdout",
     "output_type": "stream",
     "text": [
      "Error occurred: error: could not find `Cargo.toml` in `c:\\Users\\asimj\\Documents\\Polkadot-Seoul` or any parent directory\n"
     ]
    }
   ],
   "source": [
    "import subprocess\n",
    "\n",
    "def run_command(command):\n",
    "    process = subprocess.Popen(command, stdout=subprocess.PIPE, stderr=subprocess.PIPE, shell=True)\n",
    "    output, error = process.communicate()\n",
    "\n",
    "    if process.returncode != 0:\n",
    "        print(f\"Error occurred: {error.decode().strip()}\")\n",
    "    else:\n",
    "        print(f\"Output: {output.decode().strip()}\")\n",
    "\n",
    "# Run `cargo build`\n",
    "\n"
   ]
  },
  {
   "cell_type": "code",
   "execution_count": 5,
   "metadata": {},
   "outputs": [
    {
     "name": "stdout",
     "output_type": "stream",
     "text": [
      "Output: rustc 1.71.0 (8ede3aae2 2023-07-12)\n"
     ]
    }
   ],
   "source": [
    "run_command(\"rustc --version\")"
   ]
  },
  {
   "cell_type": "code",
   "execution_count": 9,
   "metadata": {},
   "outputs": [
    {
     "name": "stdout",
     "output_type": "stream",
     "text": [
      "Output: [1/*] Building cargo project\n",
      "\n",
      "The contract was built in DEBUG mode.\n",
      "\n",
      "Your contract artifacts are ready. You can find them in:\n",
      "c:\\Users\\asimj\\Documents\\Polkadot-Seoul\\my_contract\\target\\ink\n",
      "\n",
      "  - my_contract.contract (code + metadata)\n",
      "  - my_contract.wasm (the contract's code)\n",
      "  - my_contract.json (the contract's metadata)\n"
     ]
    }
   ],
   "source": [
    "run_command(\"cd my_contract && cargo contract build\")"
   ]
  },
  {
   "cell_type": "code",
   "execution_count": null,
   "metadata": {},
   "outputs": [],
   "source": []
  }
 ],
 "metadata": {
  "kernelspec": {
   "display_name": "langchain",
   "language": "python",
   "name": "python3"
  },
  "language_info": {
   "codemirror_mode": {
    "name": "ipython",
    "version": 3
   },
   "file_extension": ".py",
   "mimetype": "text/x-python",
   "name": "python",
   "nbconvert_exporter": "python",
   "pygments_lexer": "ipython3",
   "version": "3.8.17"
  },
  "orig_nbformat": 4
 },
 "nbformat": 4,
 "nbformat_minor": 2
}
